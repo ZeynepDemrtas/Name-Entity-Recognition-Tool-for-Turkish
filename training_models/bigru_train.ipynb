{
 "cells": [
  {
   "cell_type": "code",
   "execution_count": 18,
   "id": "8d66c7a6",
   "metadata": {},
   "outputs": [],
   "source": [
    "import tensorflow as tf\n",
    "from tensorflow.keras.layers import Input,Embedding,Bidirectional,Dense,GRU\n",
    "from tensorflow.keras.preprocessing.sequence import pad_sequences\n",
    "from keras.models import Model , load_model\n",
    "import numpy\n",
    "import pandas as pd"
   ]
  },
  {
   "cell_type": "code",
   "execution_count": 59,
   "id": "94fdbcb9",
   "metadata": {},
   "outputs": [],
   "source": [
    "data = pd.read_excel('..\\data\\dataset4.xlsx')"
   ]
  },
  {
   "cell_type": "code",
   "execution_count": 60,
   "id": "a6e381b2",
   "metadata": {
    "scrolled": true
   },
   "outputs": [
    {
     "data": {
      "text/html": [
       "<div>\n",
       "<style scoped>\n",
       "    .dataframe tbody tr th:only-of-type {\n",
       "        vertical-align: middle;\n",
       "    }\n",
       "\n",
       "    .dataframe tbody tr th {\n",
       "        vertical-align: top;\n",
       "    }\n",
       "\n",
       "    .dataframe thead th {\n",
       "        text-align: right;\n",
       "    }\n",
       "</style>\n",
       "<table border=\"1\" class=\"dataframe\">\n",
       "  <thead>\n",
       "    <tr style=\"text-align: right;\">\n",
       "      <th></th>\n",
       "      <th>Kelime</th>\n",
       "      <th>Etiket</th>\n",
       "      <th>Cumle</th>\n",
       "    </tr>\n",
       "  </thead>\n",
       "  <tbody>\n",
       "    <tr>\n",
       "      <th>0</th>\n",
       "      <td>Corina</td>\n",
       "      <td>B-PERSON</td>\n",
       "      <td>0</td>\n",
       "    </tr>\n",
       "    <tr>\n",
       "      <th>1</th>\n",
       "      <td>Casanova</td>\n",
       "      <td>I-PERSON</td>\n",
       "      <td>0</td>\n",
       "    </tr>\n",
       "    <tr>\n",
       "      <th>2</th>\n",
       "      <td>bir</td>\n",
       "      <td>O</td>\n",
       "      <td>0</td>\n",
       "    </tr>\n",
       "    <tr>\n",
       "      <th>3</th>\n",
       "      <td>federal</td>\n",
       "      <td>O</td>\n",
       "      <td>0</td>\n",
       "    </tr>\n",
       "    <tr>\n",
       "      <th>4</th>\n",
       "      <td>parlementerdir</td>\n",
       "      <td>O</td>\n",
       "      <td>0</td>\n",
       "    </tr>\n",
       "  </tbody>\n",
       "</table>\n",
       "</div>"
      ],
      "text/plain": [
       "           Kelime    Etiket  Cumle\n",
       "0          Corina  B-PERSON      0\n",
       "1        Casanova  I-PERSON      0\n",
       "2             bir         O      0\n",
       "3         federal         O      0\n",
       "4  parlementerdir         O      0"
      ]
     },
     "execution_count": 60,
     "metadata": {},
     "output_type": "execute_result"
    }
   ],
   "source": [
    "data.head()"
   ]
  },
  {
   "cell_type": "code",
   "execution_count": 67,
   "id": "d2e2240a",
   "metadata": {},
   "outputs": [],
   "source": [
    "labels = list(data['Etiket'].unique())\n",
    "labels_to_index = {t : i for i, t in enumerate(labels)}\n",
    "index_to_labels = {i : t for i, t in enumerate(labels)}"
   ]
  },
  {
   "cell_type": "code",
   "execution_count": 68,
   "id": "56b64b2d",
   "metadata": {},
   "outputs": [
    {
     "data": {
      "text/plain": [
       "{0: 'B-PERSON',\n",
       " 1: 'I-PERSON',\n",
       " 2: 'O',\n",
       " 3: 'B-ORG',\n",
       " 4: 'I-ORG',\n",
       " 5: 'B-LOC',\n",
       " 6: 'I-LOC',\n",
       " 7: 'B-DATE',\n",
       " 8: 'I-DATE',\n",
       " 9: 'I-TIME',\n",
       " 10: 'B-TIME'}"
      ]
     },
     "execution_count": 68,
     "metadata": {},
     "output_type": "execute_result"
    }
   ],
   "source": [
    "index_to_labels"
   ]
  },
  {
   "cell_type": "code",
   "execution_count": 5,
   "id": "fa6549d3",
   "metadata": {},
   "outputs": [],
   "source": [
    "words = list(data['Kelime'].unique())\n",
    "words_to_index = {t : i for i, t in enumerate(words)}"
   ]
  },
  {
   "cell_type": "code",
   "execution_count": 6,
   "id": "83db561d",
   "metadata": {},
   "outputs": [],
   "source": [
    "data.Etiket = data.Etiket.apply(lambda label_str: labels_to_index[label_str])\n",
    "data.Kelime = data.Kelime.apply(lambda word_str: words_to_index[word_str])"
   ]
  },
  {
   "cell_type": "code",
   "execution_count": 7,
   "id": "78799c8f",
   "metadata": {},
   "outputs": [],
   "source": [
    "data_sentences = pd.DataFrame(columns=[\"sentence\", \"labels_index\"])\n",
    "for group_nu in range(len(data.Cumle.unique())):\n",
    "    row_sentences = data.groupby(\"Cumle\", group_keys = True).apply(lambda s:s).loc[group_nu][\"Kelime\"].values # sentences\n",
    "    row_index_labels_sentences = data.groupby(\"Cumle\", group_keys = True).apply(lambda s:s).loc[group_nu][\"Etiket\"].values # labels_sentences   \n",
    "    data_sentences.loc[group_nu] = row_sentences, row_index_labels_sentences"
   ]
  },
  {
   "cell_type": "code",
   "execution_count": null,
   "id": "65147920",
   "metadata": {},
   "outputs": [],
   "source": [
    "data_sentences.sentence"
   ]
  },
  {
   "cell_type": "code",
   "execution_count": 69,
   "id": "21493304",
   "metadata": {},
   "outputs": [],
   "source": [
    "words_to_index[\"PAD\"] = len(words_to_index)\n",
    "labels_to_index[\"PAD\"] = len(labels_to_index)\n",
    "index_to_labels[len(labels_to_index)-1] = \"PAD\""
   ]
  },
  {
   "cell_type": "code",
   "execution_count": 70,
   "id": "bfbd4f0c",
   "metadata": {},
   "outputs": [
    {
     "data": {
      "text/plain": [
       "{0: 'B-PERSON',\n",
       " 1: 'I-PERSON',\n",
       " 2: 'O',\n",
       " 3: 'B-ORG',\n",
       " 4: 'I-ORG',\n",
       " 5: 'B-LOC',\n",
       " 6: 'I-LOC',\n",
       " 7: 'B-DATE',\n",
       " 8: 'I-DATE',\n",
       " 9: 'I-TIME',\n",
       " 10: 'B-TIME',\n",
       " 11: 'PAD'}"
      ]
     },
     "execution_count": 70,
     "metadata": {},
     "output_type": "execute_result"
    }
   ],
   "source": [
    "index_to_labels"
   ]
  },
  {
   "cell_type": "code",
   "execution_count": 10,
   "id": "19e2020d",
   "metadata": {},
   "outputs": [],
   "source": [
    "sentences = data_sentences.sentence.to_list()\n",
    "tags = data_sentences.labels_index.to_list()\n",
    "\n",
    "# Veri setini dolgu yapısıyla eşitleme\n",
    "max_length = max(len(s) for s in sentences)\n",
    "X = pad_sequences(sentences, maxlen=max_length, padding=\"post\", value = words_to_index[\"PAD\"])\n",
    "y = pad_sequences(tags, maxlen=max_length, padding=\"post\", value = labels_to_index[\"PAD\"])"
   ]
  },
  {
   "cell_type": "code",
   "execution_count": 11,
   "id": "4b2b974b",
   "metadata": {},
   "outputs": [],
   "source": [
    "X_test=X[0:414]\n",
    "X_train=X[414:]"
   ]
  },
  {
   "cell_type": "code",
   "execution_count": 13,
   "id": "5c6061e4",
   "metadata": {},
   "outputs": [],
   "source": [
    "y_test=y[0:414]\n",
    "y_train=y[414:]"
   ]
  },
  {
   "cell_type": "code",
   "execution_count": 14,
   "id": "6a819d75",
   "metadata": {},
   "outputs": [
    {
     "data": {
      "text/plain": [
       "array([[ 0,  1,  2, ..., 11, 11, 11],\n",
       "       [ 0,  1,  1, ..., 11, 11, 11],\n",
       "       [ 2,  2,  2, ..., 11, 11, 11],\n",
       "       ...,\n",
       "       [ 7,  2,  2, ..., 11, 11, 11],\n",
       "       [ 0,  7,  2, ..., 11, 11, 11],\n",
       "       [ 3,  2,  2, ..., 11, 11, 11]])"
      ]
     },
     "execution_count": 14,
     "metadata": {},
     "output_type": "execute_result"
    }
   ],
   "source": [
    "y_train"
   ]
  },
  {
   "cell_type": "code",
   "execution_count": 48,
   "id": "120e871d",
   "metadata": {},
   "outputs": [],
   "source": [
    "vocab_size = len(words_to_index) + 1\n",
    "num_tags = len(labels_to_index)\n",
    "embedding_dim = 64\n",
    "hidden_dim = 64\n"
   ]
  },
  {
   "cell_type": "code",
   "execution_count": 49,
   "id": "973c3fdb",
   "metadata": {},
   "outputs": [],
   "source": [
    "kelimeler_in = Input(shape=(None,), dtype='float64', name='words_input')\n",
    "words = Embedding(vocab_size, embedding_dim)(kelimeler_in)\n",
    "x = Bidirectional(GRU(hidden_dim, return_sequences=True))(words)\n",
    "output=Dense(num_tags, activation = \"softmax\")(x)\n",
    "model = Model(inputs=[kelimeler_in], outputs=[output])\n",
    "\n",
    "\n",
    "\n",
    "model.compile(optimizer=\"adam\", loss=\"sparse_categorical_crossentropy\", metrics=[\"accuracy\"])\n",
    "\n"
   ]
  },
  {
   "cell_type": "code",
   "execution_count": 51,
   "id": "cbe64f00",
   "metadata": {},
   "outputs": [
    {
     "name": "stdout",
     "output_type": "stream",
     "text": [
      "Epoch 1/10\n",
      "1655/1655 [==============================] - 41s 20ms/step - loss: 0.2550 - accuracy: 0.9342\n",
      "Epoch 2/10\n",
      "1655/1655 [==============================] - 32s 19ms/step - loss: 0.0865 - accuracy: 0.9741\n",
      "Epoch 3/10\n",
      "1655/1655 [==============================] - 31s 18ms/step - loss: 0.0309 - accuracy: 0.9907\n",
      "Epoch 4/10\n",
      "1655/1655 [==============================] - 31s 19ms/step - loss: 0.0140 - accuracy: 0.9955\n",
      "Epoch 5/10\n",
      "1655/1655 [==============================] - 31s 19ms/step - loss: 0.0078 - accuracy: 0.9975\n",
      "Epoch 6/10\n",
      "1655/1655 [==============================] - 31s 19ms/step - loss: 0.0044 - accuracy: 0.9986\n",
      "Epoch 7/10\n",
      "1655/1655 [==============================] - 31s 19ms/step - loss: 0.0035 - accuracy: 0.9990\n",
      "Epoch 8/10\n",
      "1655/1655 [==============================] - 34s 20ms/step - loss: 0.0022 - accuracy: 0.9993\n",
      "Epoch 9/10\n",
      "1655/1655 [==============================] - 32s 19ms/step - loss: 0.0019 - accuracy: 0.9994\n",
      "Epoch 10/10\n",
      "1655/1655 [==============================] - 32s 19ms/step - loss: 0.0011 - accuracy: 0.9997\n"
     ]
    },
    {
     "data": {
      "text/plain": [
       "<keras.callbacks.History at 0x230f7524220>"
      ]
     },
     "execution_count": 51,
     "metadata": {},
     "output_type": "execute_result"
    }
   ],
   "source": [
    "model.fit(X_train, y_train, epochs=10, batch_size=1)"
   ]
  },
  {
   "cell_type": "code",
   "execution_count": 18,
   "id": "2bfc4bdb",
   "metadata": {},
   "outputs": [
    {
     "data": {
      "text/plain": [
       "array([[    5,  2268,     5,     5, 10358,     5, 11603, 11603, 11603,\n",
       "        11603, 11603, 11603, 11603, 11603, 11603, 11603, 11603, 11603,\n",
       "        11603, 11603, 11603, 11603, 11603, 11603, 11603, 11603, 11603,\n",
       "        11603, 11603, 11603, 11603, 11603, 11603, 11603, 11603, 11603,\n",
       "        11603, 11603, 11603, 11603, 11603, 11603, 11603, 11603, 11603,\n",
       "        11603, 11603, 11603, 11603, 11603, 11603, 11603, 11603]])"
      ]
     },
     "execution_count": 18,
     "metadata": {},
     "output_type": "execute_result"
    }
   ],
   "source": [
    "# Örnek cümle için varlık tanım\n",
    "test_sentence = [\"5\", \"Ekim\",\"Bülent\", \"Ecevit\", \"Üniversitesine\", \"gidilecek\"]\n",
    "#test_sentence = [\"Mustafa\", \"Kemal\",\"Atatürk\", \"19\", \"Mayıs\", \"1919'da\",\"Samsun'a\",\"çıktı\"]\n",
    "\n",
    "#test_sentence = [\"Rusya\", \"devleti\", \"savaşta\", \"tarafsız\", \"kaldı\",\".\"]\n",
    "\n",
    "test_input = pad_sequences([[words_to_index.get(word, 5) for word in test_sentence]], maxlen=max_length, padding=\"post\", value = words_to_index[\"PAD\"])   \n",
    "test_input"
   ]
  },
  {
   "cell_type": "code",
   "execution_count": 54,
   "id": "0e77e70d",
   "metadata": {},
   "outputs": [],
   "source": [
    "model.save('../models/bigru_model.h5')"
   ]
  },
  {
   "cell_type": "code",
   "execution_count": 16,
   "id": "b119192c",
   "metadata": {},
   "outputs": [],
   "source": [
    "yuklenen_model=load_model('../models/bigru_model.h5')"
   ]
  },
  {
   "cell_type": "code",
   "execution_count": 19,
   "id": "d71e8d08",
   "metadata": {},
   "outputs": [
    {
     "name": "stdout",
     "output_type": "stream",
     "text": [
      "1/1 [==============================] - 5s 5s/step\n",
      "['5', 'Ekim', 'Bülent', 'Ecevit', 'Üniversitesine', 'gidilecek']\n",
      "['O', 'B-DATE', 'O', 'O', 'O', 'O']\n"
     ]
    }
   ],
   "source": [
    "predictions = yuklenen_model.predict(test_input)\n",
    "predicted_tags = [list(labels_to_index)[idx] for idx in tf.argmax(predictions, axis=-1)[0]]\n",
    "\n",
    "print(test_sentence)\n",
    "print(predicted_tags[:len(test_sentence)])"
   ]
  },
  {
   "cell_type": "code",
   "execution_count": 22,
   "id": "c2c3c8bb",
   "metadata": {},
   "outputs": [],
   "source": [
    "X_test=X_test.reshape(414,1,53)"
   ]
  },
  {
   "cell_type": "code",
   "execution_count": null,
   "id": "7a5cacdd",
   "metadata": {
    "scrolled": false
   },
   "outputs": [],
   "source": [
    "#metric =metrics.F1Score(threshold=0.5,num_classes=len(labels_to_index))\n",
    "predictions=[]\n",
    "for i in range(len(X_test)):\n",
    "    y_pred = yuklenen_model.predict(X_test[i])\n",
    "    y_pred=tf.argmax(y_pred, axis=-1)[0]\n",
    "    predictions.append(y_pred)"
   ]
  },
  {
   "cell_type": "code",
   "execution_count": 26,
   "id": "8cfb8b16",
   "metadata": {},
   "outputs": [],
   "source": [
    "for i in range (len(predictions)):\n",
    "    predictions[i]=predictions[i].numpy()"
   ]
  },
  {
   "cell_type": "code",
   "execution_count": 27,
   "id": "dabaa365",
   "metadata": {},
   "outputs": [],
   "source": [
    "preds=numpy.array(predictions)"
   ]
  },
  {
   "cell_type": "code",
   "execution_count": 82,
   "id": "0c54fc7f",
   "metadata": {},
   "outputs": [],
   "source": [
    "labels.append('PAD')"
   ]
  },
  {
   "cell_type": "code",
   "execution_count": 83,
   "id": "627b7a3a",
   "metadata": {},
   "outputs": [
    {
     "data": {
      "text/plain": [
       "['B-PERSON',\n",
       " 'I-PERSON',\n",
       " 'O',\n",
       " 'B-ORG',\n",
       " 'I-ORG',\n",
       " 'B-LOC',\n",
       " 'I-LOC',\n",
       " 'B-DATE',\n",
       " 'I-DATE',\n",
       " 'I-TIME',\n",
       " 'B-TIME',\n",
       " 'PAD']"
      ]
     },
     "execution_count": 83,
     "metadata": {},
     "output_type": "execute_result"
    }
   ],
   "source": [
    "labels"
   ]
  },
  {
   "cell_type": "code",
   "execution_count": 87,
   "id": "c3c66772",
   "metadata": {},
   "outputs": [],
   "source": [
    "from sklearn.metrics import f1_score\n",
    "from sklearn.metrics import classification_report\n",
    "\n",
    "# Calculate F1 score\n",
    "f1 = f1_score(y_test.reshape(21942,1), preds.reshape(21942,1),average=None)\n",
    "\n",
    "\n"
   ]
  },
  {
   "cell_type": "code",
   "execution_count": 91,
   "id": "2fd83877",
   "metadata": {},
   "outputs": [
    {
     "name": "stdout",
     "output_type": "stream",
     "text": [
      " B-PERSON: F1 score: 0.2784810126582279\n",
      " I-PERSON: F1 score: 0.35102040816326535\n",
      " O: F1 score: 0.8913065582104728\n",
      " B-ORG: F1 score: 0.30065359477124187\n",
      " I-ORG: F1 score: 0.3510971786833856\n",
      " B-LOC: F1 score: 0.4846153846153846\n",
      " I-LOC: F1 score: 0.4615384615384615\n",
      " B-DATE: F1 score: 0.7159090909090909\n",
      " I-DATE: F1 score: 0.7491638795986622\n",
      " I-TIME: F1 score: 0.25\n",
      " B-TIME: F1 score: 0.3225806451612903\n",
      " PAD: F1 score: 1.0\n"
     ]
    }
   ],
   "source": [
    "for class_id, f1 in enumerate(f1):\n",
    "    print(\" {}: F1 score: {}\".format(index_to_labels[class_id], f1))"
   ]
  },
  {
   "cell_type": "code",
   "execution_count": 85,
   "id": "4a728b24",
   "metadata": {
    "scrolled": true
   },
   "outputs": [
    {
     "name": "stdout",
     "output_type": "stream",
     "text": [
      "              precision    recall  f1-score   support\n",
      "\n",
      "    B-PERSON       0.65      0.18      0.28       248\n",
      "    I-PERSON       0.51      0.27      0.35       161\n",
      "           O       0.83      0.97      0.89      4540\n",
      "       B-ORG       0.48      0.22      0.30       210\n",
      "       I-ORG       0.59      0.25      0.35       224\n",
      "       B-LOC       0.74      0.36      0.48       350\n",
      "       I-LOC       0.54      0.40      0.46       127\n",
      "      B-DATE       0.78      0.66      0.72       191\n",
      "      I-DATE       0.85      0.67      0.75       167\n",
      "      I-TIME       0.19      0.38      0.25        13\n",
      "      B-TIME       0.25      0.45      0.32        11\n",
      "         PAD       1.00      1.00      1.00     15700\n",
      "\n",
      "    accuracy                           0.94     21942\n",
      "   macro avg       0.62      0.48      0.51     21942\n",
      "weighted avg       0.94      0.94      0.93     21942\n",
      "\n"
     ]
    }
   ],
   "source": [
    "print(classification_report(y_test.reshape(21942,1), preds.reshape(21942,1), target_names=labels))"
   ]
  },
  {
   "cell_type": "code",
   "execution_count": 98,
   "id": "0efe3e13",
   "metadata": {
    "scrolled": true
   },
   "outputs": [
    {
     "data": {
      "image/png": "[encoded data removed]",
      "text/plain": [
       "<Figure size 1200x500 with 1 Axes>"
      ]
     },
     "metadata": {},
     "output_type": "display_data"
    }
   ],
   "source": [
    "import matplotlib.pyplot as plt\n",
    "\n",
    "f1 = f1_score(y_test.reshape(21942,1), preds.reshape(21942,1),average=None)\n",
    "\n",
    "plt.figure(figsize=(12, 5))\n",
    "plt.bar(labels, f1.tolist())\n",
    "plt.xlabel('Class Labels')\n",
    "plt.ylabel('F1 Score')\n",
    "plt.title('F1 Scores for Each Class')\n",
    "plt.xticks(labels)\n",
    "plt.ylim(0, 1)  # Optional: Set the y-axis limits\n",
    "plt.show()"
   ]
  },
  {
   "cell_type": "code",
   "execution_count": 7,
   "id": "f81c0361",
   "metadata": {},
   "outputs": [],
   "source": [
    "from keras.models import load_model\n",
    "model=load_model('../models/bigru_model.h5')"
   ]
  },
  {
   "cell_type": "code",
   "execution_count": 9,
   "id": "60ae04a4",
   "metadata": {},
   "outputs": [
    {
     "data": {
      "image/png": "[encoded data removed]",
      "text/plain": [
       "<IPython.core.display.Image object>"
      ]
     },
     "execution_count": 9,
     "metadata": {},
     "output_type": "execute_result"
    }
   ],
   "source": [
    "from tensorflow.keras.utils import plot_model\n",
    "\n",
    "plot_model(model, show_shapes=True)"
   ]
  }
 ],
 "metadata": {
  "kernelspec": {
   "display_name": "Python 3 (ipykernel)",
   "language": "python",
   "name": "python3"
  },
  "language_info": {
   "codemirror_mode": {
    "name": "ipython",
    "version": 3
   },
   "file_extension": ".py",
   "mimetype": "text/x-python",
   "name": "python",
   "nbconvert_exporter": "python",
   "pygments_lexer": "ipython3",
   "version": "3.8.13"
  }
 },
 "nbformat": 4,
 "nbformat_minor": 5
}
