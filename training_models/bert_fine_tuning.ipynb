{
 "cells": [
  {
   "cell_type": "markdown",
   "id": "55c5aaf4",
   "metadata": {},
   "source": [
    "### veri seti hazırlığı"
   ]
  },
  {
   "cell_type": "code",
   "execution_count": 1,
   "id": "b959a126",
   "metadata": {},
   "outputs": [],
   "source": [
    "import pandas as pd\n",
    "data = pd.read_excel('..\\data\\dataset4.xlsx')"
   ]
  },
  {
   "cell_type": "code",
   "execution_count": 2,
   "id": "bb458db5",
   "metadata": {},
   "outputs": [
    {
     "data": {
      "text/html": [
       "<div>\n",
       "<style scoped>\n",
       "    .dataframe tbody tr th:only-of-type {\n",
       "        vertical-align: middle;\n",
       "    }\n",
       "\n",
       "    .dataframe tbody tr th {\n",
       "        vertical-align: top;\n",
       "    }\n",
       "\n",
       "    .dataframe thead th {\n",
       "        text-align: right;\n",
       "    }\n",
       "</style>\n",
       "<table border=\"1\" class=\"dataframe\">\n",
       "  <thead>\n",
       "    <tr style=\"text-align: right;\">\n",
       "      <th></th>\n",
       "      <th>Kelime</th>\n",
       "      <th>Etiket</th>\n",
       "      <th>Cumle</th>\n",
       "    </tr>\n",
       "  </thead>\n",
       "  <tbody>\n",
       "    <tr>\n",
       "      <th>0</th>\n",
       "      <td>Corina</td>\n",
       "      <td>B-PERSON</td>\n",
       "      <td>0</td>\n",
       "    </tr>\n",
       "    <tr>\n",
       "      <th>1</th>\n",
       "      <td>Casanova</td>\n",
       "      <td>I-PERSON</td>\n",
       "      <td>0</td>\n",
       "    </tr>\n",
       "    <tr>\n",
       "      <th>2</th>\n",
       "      <td>bir</td>\n",
       "      <td>O</td>\n",
       "      <td>0</td>\n",
       "    </tr>\n",
       "    <tr>\n",
       "      <th>3</th>\n",
       "      <td>federal</td>\n",
       "      <td>O</td>\n",
       "      <td>0</td>\n",
       "    </tr>\n",
       "    <tr>\n",
       "      <th>4</th>\n",
       "      <td>parlementerdir</td>\n",
       "      <td>O</td>\n",
       "      <td>0</td>\n",
       "    </tr>\n",
       "    <tr>\n",
       "      <th>5</th>\n",
       "      <td>Casanova</td>\n",
       "      <td>B-PERSON</td>\n",
       "      <td>1</td>\n",
       "    </tr>\n",
       "    <tr>\n",
       "      <th>6</th>\n",
       "      <td>Hristiyan</td>\n",
       "      <td>B-ORG</td>\n",
       "      <td>1</td>\n",
       "    </tr>\n",
       "    <tr>\n",
       "      <th>7</th>\n",
       "      <td>Demokrat</td>\n",
       "      <td>I-ORG</td>\n",
       "      <td>1</td>\n",
       "    </tr>\n",
       "    <tr>\n",
       "      <th>8</th>\n",
       "      <td>Halk</td>\n",
       "      <td>I-ORG</td>\n",
       "      <td>1</td>\n",
       "    </tr>\n",
       "    <tr>\n",
       "      <th>9</th>\n",
       "      <td>Partisi</td>\n",
       "      <td>I-ORG</td>\n",
       "      <td>1</td>\n",
       "    </tr>\n",
       "  </tbody>\n",
       "</table>\n",
       "</div>"
      ],
      "text/plain": [
       "           Kelime    Etiket  Cumle\n",
       "0          Corina  B-PERSON      0\n",
       "1        Casanova  I-PERSON      0\n",
       "2             bir         O      0\n",
       "3         federal         O      0\n",
       "4  parlementerdir         O      0\n",
       "5        Casanova  B-PERSON      1\n",
       "6       Hristiyan     B-ORG      1\n",
       "7        Demokrat     I-ORG      1\n",
       "8            Halk     I-ORG      1\n",
       "9         Partisi     I-ORG      1"
      ]
     },
     "execution_count": 2,
     "metadata": {},
     "output_type": "execute_result"
    }
   ],
   "source": [
    "data[0:10]"
   ]
  },
  {
   "cell_type": "code",
   "execution_count": 3,
   "id": "fc0db7e5",
   "metadata": {},
   "outputs": [],
   "source": [
    "labels = list(data['Etiket'].unique())\n",
    "labels_to_index = {t : i for i, t in enumerate(labels)}"
   ]
  },
  {
   "cell_type": "code",
   "execution_count": 4,
   "id": "3cd3d585",
   "metadata": {},
   "outputs": [],
   "source": [
    "index_to_labels = {i : t for i, t in enumerate(labels)}"
   ]
  },
  {
   "cell_type": "code",
   "execution_count": 5,
   "id": "3556ba53",
   "metadata": {},
   "outputs": [],
   "source": [
    "data.Etiket = data.Etiket.apply(lambda label_str: labels_to_index[label_str])"
   ]
  },
  {
   "cell_type": "code",
   "execution_count": 6,
   "id": "f8771eb0",
   "metadata": {
    "scrolled": true
   },
   "outputs": [
    {
     "data": {
      "text/plain": [
       "Kelime    26403\n",
       "Etiket    26403\n",
       "Cumle     26403\n",
       "dtype: int64"
      ]
     },
     "execution_count": 6,
     "metadata": {},
     "output_type": "execute_result"
    }
   ],
   "source": [
    "data.count()"
   ]
  },
  {
   "cell_type": "code",
   "execution_count": 7,
   "id": "c8b4d36c",
   "metadata": {},
   "outputs": [
    {
     "data": {
      "text/html": [
       "<div>\n",
       "<style scoped>\n",
       "    .dataframe tbody tr th:only-of-type {\n",
       "        vertical-align: middle;\n",
       "    }\n",
       "\n",
       "    .dataframe tbody tr th {\n",
       "        vertical-align: top;\n",
       "    }\n",
       "\n",
       "    .dataframe thead th {\n",
       "        text-align: right;\n",
       "    }\n",
       "</style>\n",
       "<table border=\"1\" class=\"dataframe\">\n",
       "  <thead>\n",
       "    <tr style=\"text-align: right;\">\n",
       "      <th></th>\n",
       "      <th>Kelime</th>\n",
       "      <th>Cumle</th>\n",
       "    </tr>\n",
       "    <tr>\n",
       "      <th>Etiket</th>\n",
       "      <th></th>\n",
       "      <th></th>\n",
       "    </tr>\n",
       "  </thead>\n",
       "  <tbody>\n",
       "    <tr>\n",
       "      <th>0</th>\n",
       "      <td>1492</td>\n",
       "      <td>1492</td>\n",
       "    </tr>\n",
       "    <tr>\n",
       "      <th>1</th>\n",
       "      <td>954</td>\n",
       "      <td>954</td>\n",
       "    </tr>\n",
       "    <tr>\n",
       "      <th>2</th>\n",
       "      <td>19036</td>\n",
       "      <td>19036</td>\n",
       "    </tr>\n",
       "    <tr>\n",
       "      <th>3</th>\n",
       "      <td>776</td>\n",
       "      <td>776</td>\n",
       "    </tr>\n",
       "    <tr>\n",
       "      <th>4</th>\n",
       "      <td>797</td>\n",
       "      <td>797</td>\n",
       "    </tr>\n",
       "    <tr>\n",
       "      <th>5</th>\n",
       "      <td>1487</td>\n",
       "      <td>1487</td>\n",
       "    </tr>\n",
       "    <tr>\n",
       "      <th>6</th>\n",
       "      <td>436</td>\n",
       "      <td>436</td>\n",
       "    </tr>\n",
       "    <tr>\n",
       "      <th>7</th>\n",
       "      <td>797</td>\n",
       "      <td>797</td>\n",
       "    </tr>\n",
       "    <tr>\n",
       "      <th>8</th>\n",
       "      <td>628</td>\n",
       "      <td>628</td>\n",
       "    </tr>\n",
       "  </tbody>\n",
       "</table>\n",
       "</div>"
      ],
      "text/plain": [
       "        Kelime  Cumle\n",
       "Etiket               \n",
       "0         1492   1492\n",
       "1          954    954\n",
       "2        19036  19036\n",
       "3          776    776\n",
       "4          797    797\n",
       "5         1487   1487\n",
       "6          436    436\n",
       "7          797    797\n",
       "8          628    628"
      ]
     },
     "execution_count": 7,
     "metadata": {},
     "output_type": "execute_result"
    }
   ],
   "source": [
    "data.groupby(by= 'Etiket').count()"
   ]
  },
  {
   "cell_type": "code",
   "execution_count": 9,
   "id": "4469ad3f",
   "metadata": {},
   "outputs": [
    {
     "data": {
      "text/html": [
       "<div>\n",
       "<style scoped>\n",
       "    .dataframe tbody tr th:only-of-type {\n",
       "        vertical-align: middle;\n",
       "    }\n",
       "\n",
       "    .dataframe tbody tr th {\n",
       "        vertical-align: top;\n",
       "    }\n",
       "\n",
       "    .dataframe thead th {\n",
       "        text-align: right;\n",
       "    }\n",
       "</style>\n",
       "<table border=\"1\" class=\"dataframe\">\n",
       "  <thead>\n",
       "    <tr style=\"text-align: right;\">\n",
       "      <th></th>\n",
       "      <th>Kelime</th>\n",
       "      <th>Etiket</th>\n",
       "      <th>Cumle</th>\n",
       "    </tr>\n",
       "  </thead>\n",
       "  <tbody>\n",
       "    <tr>\n",
       "      <th>886</th>\n",
       "      <td>30</td>\n",
       "      <td>7</td>\n",
       "      <td>65</td>\n",
       "    </tr>\n",
       "    <tr>\n",
       "      <th>887</th>\n",
       "      <td>Kasım</td>\n",
       "      <td>8</td>\n",
       "      <td>65</td>\n",
       "    </tr>\n",
       "    <tr>\n",
       "      <th>888</th>\n",
       "      <td>1938de</td>\n",
       "      <td>8</td>\n",
       "      <td>65</td>\n",
       "    </tr>\n",
       "    <tr>\n",
       "      <th>889</th>\n",
       "      <td>Emil</td>\n",
       "      <td>0</td>\n",
       "      <td>65</td>\n",
       "    </tr>\n",
       "    <tr>\n",
       "      <th>890</th>\n",
       "      <td>Hcha</td>\n",
       "      <td>1</td>\n",
       "      <td>65</td>\n",
       "    </tr>\n",
       "    <tr>\n",
       "      <th>891</th>\n",
       "      <td>cumhurbaşkanı</td>\n",
       "      <td>2</td>\n",
       "      <td>65</td>\n",
       "    </tr>\n",
       "    <tr>\n",
       "      <th>892</th>\n",
       "      <td>olurken</td>\n",
       "      <td>2</td>\n",
       "      <td>65</td>\n",
       "    </tr>\n",
       "    <tr>\n",
       "      <th>893</th>\n",
       "      <td>Çek</td>\n",
       "      <td>3</td>\n",
       "      <td>65</td>\n",
       "    </tr>\n",
       "    <tr>\n",
       "      <th>894</th>\n",
       "      <td>Köylü</td>\n",
       "      <td>4</td>\n",
       "      <td>65</td>\n",
       "    </tr>\n",
       "    <tr>\n",
       "      <th>895</th>\n",
       "      <td>Partisi</td>\n",
       "      <td>4</td>\n",
       "      <td>65</td>\n",
       "    </tr>\n",
       "    <tr>\n",
       "      <th>896</th>\n",
       "      <td>önderi</td>\n",
       "      <td>2</td>\n",
       "      <td>65</td>\n",
       "    </tr>\n",
       "    <tr>\n",
       "      <th>897</th>\n",
       "      <td>Rudolf</td>\n",
       "      <td>0</td>\n",
       "      <td>65</td>\n",
       "    </tr>\n",
       "    <tr>\n",
       "      <th>898</th>\n",
       "      <td>Beran</td>\n",
       "      <td>1</td>\n",
       "      <td>65</td>\n",
       "    </tr>\n",
       "    <tr>\n",
       "      <th>899</th>\n",
       "      <td>federal</td>\n",
       "      <td>2</td>\n",
       "      <td>65</td>\n",
       "    </tr>\n",
       "    <tr>\n",
       "      <th>900</th>\n",
       "      <td>hükümeti</td>\n",
       "      <td>2</td>\n",
       "      <td>65</td>\n",
       "    </tr>\n",
       "    <tr>\n",
       "      <th>901</th>\n",
       "      <td>kurmakla</td>\n",
       "      <td>2</td>\n",
       "      <td>65</td>\n",
       "    </tr>\n",
       "    <tr>\n",
       "      <th>902</th>\n",
       "      <td>görevlendirildi</td>\n",
       "      <td>2</td>\n",
       "      <td>65</td>\n",
       "    </tr>\n",
       "  </tbody>\n",
       "</table>\n",
       "</div>"
      ],
      "text/plain": [
       "              Kelime  Etiket  Cumle\n",
       "886               30       7     65\n",
       "887            Kasım       8     65\n",
       "888           1938de       8     65\n",
       "889             Emil       0     65\n",
       "890             Hcha       1     65\n",
       "891    cumhurbaşkanı       2     65\n",
       "892          olurken       2     65\n",
       "893              Çek       3     65\n",
       "894            Köylü       4     65\n",
       "895          Partisi       4     65\n",
       "896           önderi       2     65\n",
       "897           Rudolf       0     65\n",
       "898            Beran       1     65\n",
       "899          federal       2     65\n",
       "900         hükümeti       2     65\n",
       "901         kurmakla       2     65\n",
       "902  görevlendirildi       2     65"
      ]
     },
     "execution_count": 9,
     "metadata": {},
     "output_type": "execute_result"
    }
   ],
   "source": [
    "data[data[\"Cumle\"] == 65]"
   ]
  },
  {
   "cell_type": "code",
   "execution_count": 10,
   "id": "912755bd",
   "metadata": {},
   "outputs": [
    {
     "data": {
      "text/html": [
       "<div>\n",
       "<style scoped>\n",
       "    .dataframe tbody tr th:only-of-type {\n",
       "        vertical-align: middle;\n",
       "    }\n",
       "\n",
       "    .dataframe tbody tr th {\n",
       "        vertical-align: top;\n",
       "    }\n",
       "\n",
       "    .dataframe thead th {\n",
       "        text-align: right;\n",
       "    }\n",
       "</style>\n",
       "<table border=\"1\" class=\"dataframe\">\n",
       "  <thead>\n",
       "    <tr style=\"text-align: right;\">\n",
       "      <th></th>\n",
       "      <th>Kelime</th>\n",
       "      <th>Cumle</th>\n",
       "    </tr>\n",
       "    <tr>\n",
       "      <th>Etiket</th>\n",
       "      <th></th>\n",
       "      <th></th>\n",
       "    </tr>\n",
       "  </thead>\n",
       "  <tbody>\n",
       "    <tr>\n",
       "      <th>0</th>\n",
       "      <td>249</td>\n",
       "      <td>249</td>\n",
       "    </tr>\n",
       "    <tr>\n",
       "      <th>1</th>\n",
       "      <td>162</td>\n",
       "      <td>162</td>\n",
       "    </tr>\n",
       "    <tr>\n",
       "      <th>2</th>\n",
       "      <td>3765</td>\n",
       "      <td>3765</td>\n",
       "    </tr>\n",
       "    <tr>\n",
       "      <th>3</th>\n",
       "      <td>210</td>\n",
       "      <td>210</td>\n",
       "    </tr>\n",
       "    <tr>\n",
       "      <th>4</th>\n",
       "      <td>224</td>\n",
       "      <td>224</td>\n",
       "    </tr>\n",
       "    <tr>\n",
       "      <th>5</th>\n",
       "      <td>350</td>\n",
       "      <td>350</td>\n",
       "    </tr>\n",
       "    <tr>\n",
       "      <th>6</th>\n",
       "      <td>127</td>\n",
       "      <td>127</td>\n",
       "    </tr>\n",
       "    <tr>\n",
       "      <th>7</th>\n",
       "      <td>191</td>\n",
       "      <td>191</td>\n",
       "    </tr>\n",
       "    <tr>\n",
       "      <th>8</th>\n",
       "      <td>166</td>\n",
       "      <td>166</td>\n",
       "    </tr>\n",
       "  </tbody>\n",
       "</table>\n",
       "</div>"
      ],
      "text/plain": [
       "        Kelime  Cumle\n",
       "Etiket               \n",
       "0          249    249\n",
       "1          162    162\n",
       "2         3765   3765\n",
       "3          210    210\n",
       "4          224    224\n",
       "5          350    350\n",
       "6          127    127\n",
       "7          191    191\n",
       "8          166    166"
      ]
     },
     "execution_count": 10,
     "metadata": {},
     "output_type": "execute_result"
    }
   ],
   "source": [
    "data_test = data[data[\"Cumle\"] < 414]\n",
    "data_test.groupby(by= 'Etiket').count()"
   ]
  },
  {
   "cell_type": "code",
   "execution_count": 11,
   "id": "b28c61a3",
   "metadata": {
    "scrolled": true
   },
   "outputs": [
    {
     "data": {
      "text/html": [
       "<div>\n",
       "<style scoped>\n",
       "    .dataframe tbody tr th:only-of-type {\n",
       "        vertical-align: middle;\n",
       "    }\n",
       "\n",
       "    .dataframe tbody tr th {\n",
       "        vertical-align: top;\n",
       "    }\n",
       "\n",
       "    .dataframe thead th {\n",
       "        text-align: right;\n",
       "    }\n",
       "</style>\n",
       "<table border=\"1\" class=\"dataframe\">\n",
       "  <thead>\n",
       "    <tr style=\"text-align: right;\">\n",
       "      <th></th>\n",
       "      <th>Kelime</th>\n",
       "      <th>Cumle</th>\n",
       "    </tr>\n",
       "    <tr>\n",
       "      <th>Etiket</th>\n",
       "      <th></th>\n",
       "      <th></th>\n",
       "    </tr>\n",
       "  </thead>\n",
       "  <tbody>\n",
       "    <tr>\n",
       "      <th>0</th>\n",
       "      <td>1243</td>\n",
       "      <td>1243</td>\n",
       "    </tr>\n",
       "    <tr>\n",
       "      <th>1</th>\n",
       "      <td>792</td>\n",
       "      <td>792</td>\n",
       "    </tr>\n",
       "    <tr>\n",
       "      <th>2</th>\n",
       "      <td>15271</td>\n",
       "      <td>15271</td>\n",
       "    </tr>\n",
       "    <tr>\n",
       "      <th>3</th>\n",
       "      <td>566</td>\n",
       "      <td>566</td>\n",
       "    </tr>\n",
       "    <tr>\n",
       "      <th>4</th>\n",
       "      <td>573</td>\n",
       "      <td>573</td>\n",
       "    </tr>\n",
       "    <tr>\n",
       "      <th>5</th>\n",
       "      <td>1137</td>\n",
       "      <td>1137</td>\n",
       "    </tr>\n",
       "    <tr>\n",
       "      <th>6</th>\n",
       "      <td>309</td>\n",
       "      <td>309</td>\n",
       "    </tr>\n",
       "    <tr>\n",
       "      <th>7</th>\n",
       "      <td>606</td>\n",
       "      <td>606</td>\n",
       "    </tr>\n",
       "    <tr>\n",
       "      <th>8</th>\n",
       "      <td>462</td>\n",
       "      <td>462</td>\n",
       "    </tr>\n",
       "  </tbody>\n",
       "</table>\n",
       "</div>"
      ],
      "text/plain": [
       "        Kelime  Cumle\n",
       "Etiket               \n",
       "0         1243   1243\n",
       "1          792    792\n",
       "2        15271  15271\n",
       "3          566    566\n",
       "4          573    573\n",
       "5         1137   1137\n",
       "6          309    309\n",
       "7          606    606\n",
       "8          462    462"
      ]
     },
     "execution_count": 11,
     "metadata": {},
     "output_type": "execute_result"
    }
   ],
   "source": [
    "data_train = data[data[\"Cumle\"] >= 414]\n",
    "data_train.groupby(by= 'Etiket').count()"
   ]
  },
  {
   "cell_type": "code",
   "execution_count": 12,
   "id": "9fbe3280",
   "metadata": {},
   "outputs": [
    {
     "data": {
      "text/plain": [
       "20959"
      ]
     },
     "execution_count": 12,
     "metadata": {},
     "output_type": "execute_result"
    }
   ],
   "source": [
    "data_train.Kelime.count()"
   ]
  },
  {
   "cell_type": "code",
   "execution_count": 13,
   "id": "5a0097f2",
   "metadata": {},
   "outputs": [
    {
     "data": {
      "text/plain": [
       "5444"
      ]
     },
     "execution_count": 13,
     "metadata": {},
     "output_type": "execute_result"
    }
   ],
   "source": [
    "data_test.Kelime.count()"
   ]
  },
  {
   "cell_type": "code",
   "execution_count": 14,
   "id": "e7ef0885",
   "metadata": {
    "scrolled": true
   },
   "outputs": [
    {
     "data": {
      "text/plain": [
       "Kelime    1653\n",
       "Etiket    1653\n",
       "dtype: int64"
      ]
     },
     "execution_count": 14,
     "metadata": {},
     "output_type": "execute_result"
    }
   ],
   "source": [
    "data_train.groupby(by='Cumle').sum().count()"
   ]
  },
  {
   "cell_type": "code",
   "execution_count": 15,
   "id": "67a3631e",
   "metadata": {},
   "outputs": [
    {
     "data": {
      "text/plain": [
       "Kelime    414\n",
       "Etiket    414\n",
       "dtype: int64"
      ]
     },
     "execution_count": 15,
     "metadata": {},
     "output_type": "execute_result"
    }
   ],
   "source": [
    "data_test.groupby(by='Cumle').sum().count()"
   ]
  },
  {
   "cell_type": "code",
   "execution_count": 16,
   "id": "ccc7d64e",
   "metadata": {
    "scrolled": true
   },
   "outputs": [],
   "source": [
    "data_sentences = pd.DataFrame(columns=[\"sentence\", \"labels_index\"])\n",
    "for group_nu in range(len(data.Cumle.unique())):\n",
    "    row_sentences = data.groupby(\"Cumle\", group_keys = True).apply(lambda s:s).loc[group_nu][\"Kelime\"].values # sentences\n",
    "    row_index_labels_sentences = data.groupby(\"Cumle\", group_keys = True).apply(lambda s:s).loc[group_nu][\"Etiket\"].values # labels_sentences   \n",
    "    data_sentences.loc[group_nu] = row_sentences, row_index_labels_sentences\n"
   ]
  },
  {
   "cell_type": "markdown",
   "id": "44cfd27d",
   "metadata": {},
   "source": [
    "### BERT model yukleme - uyum"
   ]
  },
  {
   "cell_type": "code",
   "execution_count": 17,
   "id": "8fa12788",
   "metadata": {},
   "outputs": [],
   "source": [
    "from transformers import BertTokenizerFast\n",
    "from transformers import DataCollatorForTokenClassification \n",
    "from transformers import AutoModelForTokenClassification\n",
    "from sklearn.model_selection import train_test_split\n",
    "from datasets import DatasetDict, Dataset\n",
    "import pandas as pd\n",
    "import numpy as np\n",
    "from transformers import pipeline\n",
    "from tensorflow.keras.preprocessing.sequence import pad_sequences\n",
    "from tensorflow.keras.utils import plot_model"
   ]
  },
  {
   "cell_type": "code",
   "execution_count": 18,
   "id": "274a2e4b",
   "metadata": {},
   "outputs": [],
   "source": [
    "data_sentences.sentence = data_sentences.sentence.apply(lambda x: x.tolist())"
   ]
  },
  {
   "cell_type": "code",
   "execution_count": 19,
   "id": "58fc5efc",
   "metadata": {},
   "outputs": [],
   "source": [
    "data_sentences.labels_index = data_sentences.labels_index.apply(lambda x: x.tolist())"
   ]
  },
  {
   "cell_type": "code",
   "execution_count": 20,
   "id": "576fd08b",
   "metadata": {
    "scrolled": true
   },
   "outputs": [],
   "source": [
    "def cast_str(word_list):\n",
    "    for word_indx in range(len(word_list)):\n",
    "        word_list[word_indx] = str(word_list[word_indx])\n",
    "    return word_list\n",
    "data_sentences.sentence = data_sentences.sentence.apply(cast_str)"
   ]
  },
  {
   "cell_type": "code",
   "execution_count": 21,
   "id": "3313846f",
   "metadata": {
    "scrolled": true
   },
   "outputs": [
    {
     "data": {
      "text/html": [
       "<div>\n",
       "<style scoped>\n",
       "    .dataframe tbody tr th:only-of-type {\n",
       "        vertical-align: middle;\n",
       "    }\n",
       "\n",
       "    .dataframe tbody tr th {\n",
       "        vertical-align: top;\n",
       "    }\n",
       "\n",
       "    .dataframe thead th {\n",
       "        text-align: right;\n",
       "    }\n",
       "</style>\n",
       "<table border=\"1\" class=\"dataframe\">\n",
       "  <thead>\n",
       "    <tr style=\"text-align: right;\">\n",
       "      <th></th>\n",
       "      <th>sentence</th>\n",
       "      <th>labels_index</th>\n",
       "    </tr>\n",
       "  </thead>\n",
       "  <tbody>\n",
       "    <tr>\n",
       "      <th>0</th>\n",
       "      <td>[Corina, Casanova, bir, federal, parlementerdir]</td>\n",
       "      <td>[0, 1, 2, 2, 2]</td>\n",
       "    </tr>\n",
       "    <tr>\n",
       "      <th>1</th>\n",
       "      <td>[Casanova, Hristiyan, Demokrat, Halk, Partisi,...</td>\n",
       "      <td>[0, 3, 4, 4, 4, 2, 2, 2, 2, 2, 2, 2, 2, 2, 2, ...</td>\n",
       "    </tr>\n",
       "    <tr>\n",
       "      <th>2</th>\n",
       "      <td>[İsviçrenin, dış, ilişkilerini, sürdürmekle, g...</td>\n",
       "      <td>[5, 2, 2, 2, 2]</td>\n",
       "    </tr>\n",
       "    <tr>\n",
       "      <th>3</th>\n",
       "      <td>[Denton, Amerika, Birleşik, Devletlerinde, Tek...</td>\n",
       "      <td>[5, 5, 6, 6, 5, 6, 5, 2, 2, 2]</td>\n",
       "    </tr>\n",
       "    <tr>\n",
       "      <th>4</th>\n",
       "      <td>[Coğrafi, olarak, Oklahoma, Teksas, sınırının,...</td>\n",
       "      <td>[2, 2, 5, 5, 2, 2, 2, 2, 2, 5, 2, 2, 2, 2, 2]</td>\n",
       "    </tr>\n",
       "    <tr>\n",
       "      <th>5</th>\n",
       "      <td>[Şehir, Kuzey, Teksasın, en, büyük, üniversite...</td>\n",
       "      <td>[2, 5, 6, 2, 2, 2, 2, 3, 4, 4, 2, 2, 7, 2, 2, ...</td>\n",
       "    </tr>\n",
       "    <tr>\n",
       "      <th>6</th>\n",
       "      <td>[Howard, Stark, Marvelın, kurgusal, bir, karak...</td>\n",
       "      <td>[0, 1, 3, 2, 2, 2]</td>\n",
       "    </tr>\n",
       "    <tr>\n",
       "      <th>7</th>\n",
       "      <td>[İlk, genel, gösteri, Dünya, Çapında, Pazarlam...</td>\n",
       "      <td>[2, 2, 2, 2, 2, 2, 2, 2, 2, 2, 0, 2, 0, 1, 2, ...</td>\n",
       "    </tr>\n",
       "    <tr>\n",
       "      <th>8</th>\n",
       "      <td>[Ayrıca, belirtmek, gerekir, ki, 64, bit, x, 8...</td>\n",
       "      <td>[2, 2, 2, 2, 2, 2, 2, 2, 2, 2, 2, 2, 2, 2, 2, ...</td>\n",
       "    </tr>\n",
       "    <tr>\n",
       "      <th>9</th>\n",
       "      <td>[Snow, Leopard, Yükseltme, lisansı, satın, alm...</td>\n",
       "      <td>[2, 2, 2, 2, 2, 2, 7, 8, 2, 8, 8, 8, 2, 2, 2, ...</td>\n",
       "    </tr>\n",
       "  </tbody>\n",
       "</table>\n",
       "</div>"
      ],
      "text/plain": [
       "                                            sentence   \n",
       "0   [Corina, Casanova, bir, federal, parlementerdir]  \\\n",
       "1  [Casanova, Hristiyan, Demokrat, Halk, Partisi,...   \n",
       "2  [İsviçrenin, dış, ilişkilerini, sürdürmekle, g...   \n",
       "3  [Denton, Amerika, Birleşik, Devletlerinde, Tek...   \n",
       "4  [Coğrafi, olarak, Oklahoma, Teksas, sınırının,...   \n",
       "5  [Şehir, Kuzey, Teksasın, en, büyük, üniversite...   \n",
       "6  [Howard, Stark, Marvelın, kurgusal, bir, karak...   \n",
       "7  [İlk, genel, gösteri, Dünya, Çapında, Pazarlam...   \n",
       "8  [Ayrıca, belirtmek, gerekir, ki, 64, bit, x, 8...   \n",
       "9  [Snow, Leopard, Yükseltme, lisansı, satın, alm...   \n",
       "\n",
       "                                        labels_index  \n",
       "0                                    [0, 1, 2, 2, 2]  \n",
       "1  [0, 3, 4, 4, 4, 2, 2, 2, 2, 2, 2, 2, 2, 2, 2, ...  \n",
       "2                                    [5, 2, 2, 2, 2]  \n",
       "3                     [5, 5, 6, 6, 5, 6, 5, 2, 2, 2]  \n",
       "4      [2, 2, 5, 5, 2, 2, 2, 2, 2, 5, 2, 2, 2, 2, 2]  \n",
       "5  [2, 5, 6, 2, 2, 2, 2, 3, 4, 4, 2, 2, 7, 2, 2, ...  \n",
       "6                                 [0, 1, 3, 2, 2, 2]  \n",
       "7  [2, 2, 2, 2, 2, 2, 2, 2, 2, 2, 0, 2, 0, 1, 2, ...  \n",
       "8  [2, 2, 2, 2, 2, 2, 2, 2, 2, 2, 2, 2, 2, 2, 2, ...  \n",
       "9  [2, 2, 2, 2, 2, 2, 7, 8, 2, 8, 8, 8, 2, 2, 2, ...  "
      ]
     },
     "execution_count": 21,
     "metadata": {},
     "output_type": "execute_result"
    }
   ],
   "source": [
    "data_sentences[0:10]"
   ]
  },
  {
   "cell_type": "code",
   "execution_count": 22,
   "id": "cd774af8",
   "metadata": {},
   "outputs": [],
   "source": [
    "df_train = data_sentences[414:]\n",
    "df_test = data_sentences[0:414]"
   ]
  },
  {
   "cell_type": "code",
   "execution_count": 23,
   "id": "6433a6a7",
   "metadata": {},
   "outputs": [
    {
     "data": {
      "text/html": [
       "<div>\n",
       "<style scoped>\n",
       "    .dataframe tbody tr th:only-of-type {\n",
       "        vertical-align: middle;\n",
       "    }\n",
       "\n",
       "    .dataframe tbody tr th {\n",
       "        vertical-align: top;\n",
       "    }\n",
       "\n",
       "    .dataframe thead th {\n",
       "        text-align: right;\n",
       "    }\n",
       "</style>\n",
       "<table border=\"1\" class=\"dataframe\">\n",
       "  <thead>\n",
       "    <tr style=\"text-align: right;\">\n",
       "      <th></th>\n",
       "      <th>sentence</th>\n",
       "      <th>labels_index</th>\n",
       "    </tr>\n",
       "  </thead>\n",
       "  <tbody>\n",
       "    <tr>\n",
       "      <th>414</th>\n",
       "      <td>[Prens, İvane, Andronikaşvili, veya, Knez, İva...</td>\n",
       "      <td>[0, 1, 1, 2, 0, 1, 1, 1, 5, 6, 2, 2, 2, 0, 2, ...</td>\n",
       "    </tr>\n",
       "    <tr>\n",
       "      <th>415</th>\n",
       "      <td>[Gruplarda, ilk, iki, sırayı, alan, dört, ülke...</td>\n",
       "      <td>[2, 2, 2, 2, 2, 2, 2, 2, 2, 2, 5, 5, 2, 7, 8, ...</td>\n",
       "    </tr>\n",
       "    <tr>\n",
       "      <th>416</th>\n",
       "      <td>[AaB, Fodbold, Danimarkanın, Aalborg, kentinde...</td>\n",
       "      <td>[3, 4, 5, 5, 2, 2, 2, 2, 2]</td>\n",
       "    </tr>\n",
       "    <tr>\n",
       "      <th>417</th>\n",
       "      <td>[Danimarka, Süper, Liginde, mücadele, etmektedir]</td>\n",
       "      <td>[5, 3, 4, 2, 2]</td>\n",
       "    </tr>\n",
       "    <tr>\n",
       "      <th>418</th>\n",
       "      <td>[Üç, Süper, Lig, şampiyonluğu, ve, iki, Danima...</td>\n",
       "      <td>[2, 3, 4, 2, 2, 2, 3, 4, 2, 2]</td>\n",
       "    </tr>\n",
       "    <tr>\n",
       "      <th>419</th>\n",
       "      <td>[Dominic, OBrien, 10, Ağustos, 1957, Britanyal...</td>\n",
       "      <td>[0, 1, 7, 8, 8, 2, 2, 2, 2, 2, 2, 2, 2, 2]</td>\n",
       "    </tr>\n",
       "    <tr>\n",
       "      <th>420</th>\n",
       "      <td>[Dominic, OBrien, 1, Mayıs, 2002de, rastgele, ...</td>\n",
       "      <td>[0, 1, 7, 8, 8, 2, 2, 2, 2, 2, 2, 2, 2, 2, 2, ...</td>\n",
       "    </tr>\n",
       "    <tr>\n",
       "      <th>421</th>\n",
       "      <td>[Sharon, Stone, d, 10, Mart, 1958, ABDli, sine...</td>\n",
       "      <td>[0, 1, 2, 7, 8, 8, 2, 2, 2]</td>\n",
       "    </tr>\n",
       "    <tr>\n",
       "      <th>422</th>\n",
       "      <td>[Pennsylvania, nın, Meadville, kentinde, dünya...</td>\n",
       "      <td>[5, 2, 5, 2, 2, 2]</td>\n",
       "    </tr>\n",
       "    <tr>\n",
       "      <th>423</th>\n",
       "      <td>[Dört, çocuğun, ikincisi, olup, Joe, ve, Dorot...</td>\n",
       "      <td>[2, 2, 2, 2, 0, 2, 0, 1, 2, 2]</td>\n",
       "    </tr>\n",
       "  </tbody>\n",
       "</table>\n",
       "</div>"
      ],
      "text/plain": [
       "                                              sentence   \n",
       "414  [Prens, İvane, Andronikaşvili, veya, Knez, İva...  \\\n",
       "415  [Gruplarda, ilk, iki, sırayı, alan, dört, ülke...   \n",
       "416  [AaB, Fodbold, Danimarkanın, Aalborg, kentinde...   \n",
       "417  [Danimarka, Süper, Liginde, mücadele, etmektedir]   \n",
       "418  [Üç, Süper, Lig, şampiyonluğu, ve, iki, Danima...   \n",
       "419  [Dominic, OBrien, 10, Ağustos, 1957, Britanyal...   \n",
       "420  [Dominic, OBrien, 1, Mayıs, 2002de, rastgele, ...   \n",
       "421  [Sharon, Stone, d, 10, Mart, 1958, ABDli, sine...   \n",
       "422  [Pennsylvania, nın, Meadville, kentinde, dünya...   \n",
       "423  [Dört, çocuğun, ikincisi, olup, Joe, ve, Dorot...   \n",
       "\n",
       "                                          labels_index  \n",
       "414  [0, 1, 1, 2, 0, 1, 1, 1, 5, 6, 2, 2, 2, 0, 2, ...  \n",
       "415  [2, 2, 2, 2, 2, 2, 2, 2, 2, 2, 5, 5, 2, 7, 8, ...  \n",
       "416                        [3, 4, 5, 5, 2, 2, 2, 2, 2]  \n",
       "417                                    [5, 3, 4, 2, 2]  \n",
       "418                     [2, 3, 4, 2, 2, 2, 3, 4, 2, 2]  \n",
       "419         [0, 1, 7, 8, 8, 2, 2, 2, 2, 2, 2, 2, 2, 2]  \n",
       "420  [0, 1, 7, 8, 8, 2, 2, 2, 2, 2, 2, 2, 2, 2, 2, ...  \n",
       "421                        [0, 1, 2, 7, 8, 8, 2, 2, 2]  \n",
       "422                                 [5, 2, 5, 2, 2, 2]  \n",
       "423                     [2, 2, 2, 2, 0, 2, 0, 1, 2, 2]  "
      ]
     },
     "execution_count": 23,
     "metadata": {},
     "output_type": "execute_result"
    }
   ],
   "source": [
    "df_train[0:10]"
   ]
  },
  {
   "cell_type": "code",
   "execution_count": 24,
   "id": "d9f3dc52",
   "metadata": {
    "scrolled": true
   },
   "outputs": [],
   "source": [
    "dataset_train = Dataset.from_pandas(df_train)"
   ]
  },
  {
   "cell_type": "code",
   "execution_count": 25,
   "id": "12d40463",
   "metadata": {},
   "outputs": [],
   "source": [
    "dataset_test = Dataset.from_pandas(df_test)"
   ]
  },
  {
   "cell_type": "code",
   "execution_count": 26,
   "id": "b6233976",
   "metadata": {},
   "outputs": [
    {
     "data": {
      "text/plain": [
       "Dataset({\n",
       "    features: ['sentence', 'labels_index', '__index_level_0__'],\n",
       "    num_rows: 1653\n",
       "})"
      ]
     },
     "execution_count": 26,
     "metadata": {},
     "output_type": "execute_result"
    }
   ],
   "source": [
    "dataset_train"
   ]
  },
  {
   "cell_type": "code",
   "execution_count": 27,
   "id": "3eb1b186",
   "metadata": {},
   "outputs": [
    {
     "data": {
      "text/plain": [
       "Dataset({\n",
       "    features: ['sentence', 'labels_index', '__index_level_0__'],\n",
       "    num_rows: 414\n",
       "})"
      ]
     },
     "execution_count": 27,
     "metadata": {},
     "output_type": "execute_result"
    }
   ],
   "source": [
    "dataset_test"
   ]
  },
  {
   "cell_type": "code",
   "execution_count": 28,
   "id": "540e3ac6",
   "metadata": {
    "scrolled": true
   },
   "outputs": [],
   "source": [
    "#train_data, validation_data = train_test_split(dataset['train'], test_size=0.2, random_state=42)\n",
    "\n",
    "# Create a DatasetDict with the training and validation sets\n",
    "dataset_dict = DatasetDict({\n",
    "    'train': dataset_train,\n",
    "    'test': dataset_test\n",
    "})"
   ]
  },
  {
   "cell_type": "code",
   "execution_count": 29,
   "id": "e42ad9a9",
   "metadata": {
    "scrolled": false
   },
   "outputs": [
    {
     "data": {
      "text/plain": [
       "DatasetDict({\n",
       "    train: Dataset({\n",
       "        features: ['sentence', 'labels_index', '__index_level_0__'],\n",
       "        num_rows: 1653\n",
       "    })\n",
       "    test: Dataset({\n",
       "        features: ['sentence', 'labels_index', '__index_level_0__'],\n",
       "        num_rows: 414\n",
       "    })\n",
       "})"
      ]
     },
     "execution_count": 29,
     "metadata": {},
     "output_type": "execute_result"
    }
   ],
   "source": [
    "dataset_dict"
   ]
  },
  {
   "cell_type": "code",
   "execution_count": 30,
   "id": "46a8fc39",
   "metadata": {},
   "outputs": [],
   "source": [
    "tokenizer = BertTokenizerFast.from_pretrained(\"dbmdz/bert-base-turkish-cased\")"
   ]
  },
  {
   "cell_type": "code",
   "execution_count": 31,
   "id": "57283141",
   "metadata": {},
   "outputs": [
    {
     "data": {
      "text/plain": [
       "{'sentence': ['AaB',\n",
       "  'Fodbold',\n",
       "  'Danimarkanın',\n",
       "  'Aalborg',\n",
       "  'kentinde',\n",
       "  'kurulan',\n",
       "  'bir',\n",
       "  'futbol',\n",
       "  'takımı'],\n",
       " 'labels_index': [3, 4, 5, 5, 2, 2, 2, 2, 2],\n",
       " '__index_level_0__': 416}"
      ]
     },
     "execution_count": 31,
     "metadata": {},
     "output_type": "execute_result"
    }
   ],
   "source": [
    "example_text = dataset_dict['train']\n",
    "example_text[2]"
   ]
  },
  {
   "cell_type": "code",
   "execution_count": 32,
   "id": "b560edc0",
   "metadata": {},
   "outputs": [
    {
     "data": {
      "text/plain": [
       "{'input_ids': [2, 14816, 204, 2920, 1025, 5683, 5310, 2549, 1026, 10621, 1024, 2382, 19525, 2125, 204, 2920, 4403, 24402, 13195, 5683, 5310, 6694, 2830, 3708, 20836, 22985, 15543, 27300, 5683, 5310, 2549, 1026, 10621, 1024, 14113, 7892, 29847, 1996, 19844, 2067, 3], 'token_type_ids': [0, 0, 0, 0, 0, 0, 0, 0, 0, 0, 0, 0, 0, 0, 0, 0, 0, 0, 0, 0, 0, 0, 0, 0, 0, 0, 0, 0, 0, 0, 0, 0, 0, 0, 0, 0, 0, 0, 0, 0, 0], 'attention_mask': [1, 1, 1, 1, 1, 1, 1, 1, 1, 1, 1, 1, 1, 1, 1, 1, 1, 1, 1, 1, 1, 1, 1, 1, 1, 1, 1, 1, 1, 1, 1, 1, 1, 1, 1, 1, 1, 1, 1, 1, 1]}"
      ]
     },
     "execution_count": 32,
     "metadata": {},
     "output_type": "execute_result"
    }
   ],
   "source": [
    "tokenized_input = tokenizer(example_text['sentence'][0], is_split_into_words = True)\n",
    "tokenized_input"
   ]
  },
  {
   "cell_type": "code",
   "execution_count": 33,
   "id": "69777235",
   "metadata": {},
   "outputs": [
    {
     "data": {
      "text/plain": [
       "(['[CLS]',\n",
       "  'Prens',\n",
       "  'İ',\n",
       "  '##van',\n",
       "  '##e',\n",
       "  'And',\n",
       "  '##ron',\n",
       "  '##ika',\n",
       "  '##ş',\n",
       "  '##vil',\n",
       "  '##i',\n",
       "  'veya',\n",
       "  'Kn',\n",
       "  '##ez',\n",
       "  'İ',\n",
       "  '##van',\n",
       "  'Mal',\n",
       "  '##haz',\n",
       "  '##oviç',\n",
       "  'And',\n",
       "  '##ron',\n",
       "  '##nik',\n",
       "  '##ov',\n",
       "  'Rus',\n",
       "  'Krallık',\n",
       "  'hizmetinde',\n",
       "  'çalışmış',\n",
       "  'Gürcü',\n",
       "  'And',\n",
       "  '##ron',\n",
       "  '##ika',\n",
       "  '##ş',\n",
       "  '##vil',\n",
       "  '##i',\n",
       "  'ailesine',\n",
       "  'mensup',\n",
       "  'soylu',\n",
       "  'bir',\n",
       "  'general',\n",
       "  '##dir',\n",
       "  '[SEP]'],)"
      ]
     },
     "execution_count": 33,
     "metadata": {},
     "output_type": "execute_result"
    }
   ],
   "source": [
    "tokens = tokenizer.convert_ids_to_tokens(tokenized_input[\"input_ids\"]),\n",
    "tokens"
   ]
  },
  {
   "cell_type": "code",
   "execution_count": 34,
   "id": "8864dfca",
   "metadata": {},
   "outputs": [
    {
     "data": {
      "text/plain": [
       "[None, 0, 1, 1, 1, 2, 2, 2, 2, 2]"
      ]
     },
     "execution_count": 34,
     "metadata": {},
     "output_type": "execute_result"
    }
   ],
   "source": [
    "#list mapping the tokens to their actual word in the initial sentence,\n",
    "word_ids = tokenized_input.word_ids()\n",
    "word_ids[0:10]\n",
    "#Special tokens map to None"
   ]
  },
  {
   "cell_type": "code",
   "execution_count": 35,
   "id": "ea8d7610",
   "metadata": {},
   "outputs": [
    {
     "data": {
      "text/plain": [
       "(1653, 41)"
      ]
     },
     "execution_count": 35,
     "metadata": {},
     "output_type": "execute_result"
    }
   ],
   "source": [
    "#Problem of subtoken input ids returned by the tokenizer are longer than labels thatt dataset contains\\n\",\n",
    "#transformes often pre-trained with subword tokenizers meaning even if your inputs already splits into words already\\n\",\n",
    "#each of those words could be split again by the tokenizer we need to do some processing on labels\\n\",\n",
    "#Because some speacial tokens might added example cls and the separotor token and possible spilits of words into multiple tokens\\n\",\n",
    "len(example_text['labels_index']), len(tokenized_input[\"input_ids\"])"
   ]
  },
  {
   "cell_type": "code",
   "execution_count": 36,
   "id": "503993bd",
   "metadata": {},
   "outputs": [
    {
     "data": {
      "text/plain": [
       "[[0, 1, 1, 2, 0, 1, 1, 1, 5, 6, 2, 2, 2, 0, 2, 2, 2, 2, 2],\n",
       " [2, 2, 2, 2, 2, 2, 2, 2, 2, 2, 5, 5, 2, 7, 8, 8, 8, 2, 2, 3, 4, 2, 2, 2],\n",
       " [3, 4, 5, 5, 2, 2, 2, 2, 2],\n",
       " [5, 3, 4, 2, 2],\n",
       " [2, 3, 4, 2, 2, 2, 3, 4, 2, 2],\n",
       " [0, 1, 7, 8, 8, 2, 2, 2, 2, 2, 2, 2, 2, 2],\n",
       " [0, 1, 7, 8, 8, 2, 2, 2, 2, 2, 2, 2, 2, 2, 2, 2, 2, 2, 2, 2, 2, 3, 4, 2, 2],\n",
       " [0, 1, 2, 7, 8, 8, 2, 2, 2],\n",
       " [5, 2, 5, 2, 2, 2],\n",
       " [2, 2, 2, 2, 0, 2, 0, 1, 2, 2]]"
      ]
     },
     "execution_count": 36,
     "metadata": {},
     "output_type": "execute_result"
    }
   ],
   "source": [
    "example_text['labels_index'][0:10]"
   ]
  },
  {
   "cell_type": "code",
   "execution_count": 37,
   "id": "a76fd0aa",
   "metadata": {},
   "outputs": [
    {
     "data": {
      "text/plain": [
       "[2, 14816, 204, 2920, 1025, 5683, 5310, 2549, 1026, 10621]"
      ]
     },
     "execution_count": 37,
     "metadata": {},
     "output_type": "execute_result"
    }
   ],
   "source": [
    "tokenized_input[\"input_ids\"][0:10]"
   ]
  },
  {
   "cell_type": "code",
   "execution_count": 38,
   "id": "f5de50b4",
   "metadata": {},
   "outputs": [],
   "source": [
    "\n",
    "#set –100 as the label for these special tokens and the subwords we wish to mask during training\\n\",\n",
    "#mask the subword representations after the first subword\\n\",\n",
    "def tokenize_and_align_labels(examples, label_all_tokens = False):\n",
    "    tokenized_inputs = tokenizer(examples[\"sentence\"], truncation=True, is_split_into_words=True) \n",
    "    labels = []\n",
    "    for i, label in enumerate(examples[\"labels_index\"]): \n",
    "        word_ids = tokenized_inputs.word_ids(batch_index=i)\n",
    "            # word_ids() => Return a list mapping the tokens\\n\",\n",
    "            # to their actual word in the initial sentence.\\n\",\n",
    "            # It Returns a list indicating the word corresponding to each token.\n",
    "            #word_ids=[None, 0, 0, 1, 1, 2, 3, 3, 3, 4, 5, 5, 5, 5, 5, 6, None]\n",
    "        previous_word_idx = None \n",
    "        label_ids = []\n",
    "            # Special tokens like `<s>` and `<\\\\s>` are originally mapped to None \n",
    "            # We need to set the label to -100 so they are automatically ignored in the loss function.\n",
    "        for word_idx in word_ids: \n",
    "            if word_idx is None: \n",
    "                    #set –100 as the label for these special tokens. This will be ignored in the training\n",
    "                label_ids.append(-100)\n",
    "                 # For the other tokens in a word, we set the label to either the current label or -100, depending on\n",
    "                 # the label_all_tokens flag.\n",
    "            elif word_idx < len(label) and label[word_idx] is not None:\n",
    "                try:\n",
    "                    #Yani yeni kelimeye geçmişse\\n\",\n",
    "                     # if current word_idx is != prev then its the most regular case\\n\",\n",
    "                    # and add the corresponding token\\n\",\n",
    "                    #print(label)\n",
    "                    #print(word_idx)\n",
    "                    label_ids.append(label[word_idx]) \n",
    "                    previous_word_idx = word_idx\n",
    "                    \n",
    "                except:\n",
    "                    continue\n",
    "            elif label_all_tokens:\n",
    "                    # set –100 as the label for subword tokens if label_all_tokens is True\n",
    "                label_ids.append(-100)\n",
    "            else:\n",
    "                    #Aynı kelimeyse\\n\",\n",
    "                  # to take care of sub-words which have the same word_idx\n",
    "                  # set -100 as well for them, but only if label_all_tokens == False\n",
    "                label_ids.append(label[word_idx] if label_all_tokens else -100) \n",
    "                  # mask the subword representations after the first subword\n",
    "                      \n",
    "            previous_word_idx = word_idx \n",
    "        labels.append(label_ids) \n",
    "    tokenized_inputs[\"labels\"] = labels \n",
    "    return tokenized_inputs \n",
    "   "
   ]
  },
  {
   "cell_type": "code",
   "execution_count": 39,
   "id": "eb273f6b",
   "metadata": {},
   "outputs": [
    {
     "name": "stdout",
     "output_type": "stream",
     "text": [
      "{'input_ids': [[2, 7591, 22958, 25692, 2920, 4475, 2732, 8223, 2204, 24967, 11895, 6325, 3381, 3]], 'token_type_ids': [[0, 0, 0, 0, 0, 0, 0, 0, 0, 0, 0, 0, 0, 0]], 'attention_mask': [[1, 1, 1, 1, 1, 1, 1, 1, 1, 1, 1, 1, 1, 1]], 'labels': [[-100, 5, 5, 5, 5, 5, 2, 5, 5, 5, 2, 2, 2, -100]]}\n"
     ]
    }
   ],
   "source": [
    "#fonksiyon tokenize_input_variable a labels ekledi\\n\",\n",
    "q = tokenize_and_align_labels(dataset_dict['train'][8:9]) \n",
    "print(q) "
   ]
  },
  {
   "cell_type": "code",
   "execution_count": 40,
   "id": "b875afc2",
   "metadata": {
    "scrolled": true
   },
   "outputs": [
    {
     "name": "stdout",
     "output_type": "stream",
     "text": [
      "[CLS]___________________________________ -100\n",
      "Pen_____________________________________ 5\n",
      "##ns____________________________________ 5\n",
      "##yl____________________________________ 5\n",
      "##van___________________________________ 5\n",
      "##ia____________________________________ 5\n",
      "nın_____________________________________ 2\n",
      "Me______________________________________ 5\n",
      "##ad____________________________________ 5\n",
      "##ville_________________________________ 5\n",
      "kentinde________________________________ 2\n",
      "dünyaya_________________________________ 2\n",
      "geldi___________________________________ 2\n",
      "[SEP]___________________________________ -100\n"
     ]
    }
   ],
   "source": [
    "for token, label in zip(tokenizer.convert_ids_to_tokens(q[\"input_ids\"][0]),q[\"labels\"][0]): \n",
    "    print(f\"{token:_<40} {label}\")"
   ]
  },
  {
   "cell_type": "code",
   "execution_count": 41,
   "id": "a55045db",
   "metadata": {
    "scrolled": true
   },
   "outputs": [
    {
     "data": {
      "application/vnd.jupyter.widget-view+json": {
       "model_id": "466a32db904941d58cd09b670e041cb3",
       "version_major": 2,
       "version_minor": 0
      },
      "text/plain": [
       "Map:   0%|          | 0/1653 [00:00<?, ? examples/s]"
      ]
     },
     "metadata": {},
     "output_type": "display_data"
    },
    {
     "data": {
      "application/vnd.jupyter.widget-view+json": {
       "model_id": "7a5e587ae15445a78d798ca26eaa17f2",
       "version_major": 2,
       "version_minor": 0
      },
      "text/plain": [
       "Map:   0%|          | 0/414 [00:00<?, ? examples/s]"
      ]
     },
     "metadata": {},
     "output_type": "display_data"
    }
   ],
   "source": [
    "tokenized_datasets = dataset_dict.map(tokenize_and_align_labels, batched=True)"
   ]
  },
  {
   "cell_type": "code",
   "execution_count": 42,
   "id": "1243ec43",
   "metadata": {},
   "outputs": [
    {
     "name": "stderr",
     "output_type": "stream",
     "text": [
      "Some weights of the model checkpoint at dbmdz/bert-base-turkish-cased were not used when initializing BertForTokenClassification: ['cls.predictions.transform.LayerNorm.bias', 'cls.predictions.transform.LayerNorm.weight', 'cls.predictions.transform.dense.weight', 'cls.predictions.transform.dense.bias', 'cls.seq_relationship.weight', 'cls.predictions.bias', 'cls.seq_relationship.bias', 'cls.predictions.decoder.bias', 'cls.predictions.decoder.weight']\n",
      "- This IS expected if you are initializing BertForTokenClassification from the checkpoint of a model trained on another task or with another architecture (e.g. initializing a BertForSequenceClassification model from a BertForPreTraining model).\n",
      "- This IS NOT expected if you are initializing BertForTokenClassification from the checkpoint of a model that you expect to be exactly identical (initializing a BertForSequenceClassification model from a BertForSequenceClassification model).\n",
      "Some weights of BertForTokenClassification were not initialized from the model checkpoint at dbmdz/bert-base-turkish-cased and are newly initialized: ['classifier.bias', 'classifier.weight']\n",
      "You should probably TRAIN this model on a down-stream task to be able to use it for predictions and inference.\n"
     ]
    }
   ],
   "source": [
    "model = AutoModelForTokenClassification.from_pretrained(\"dbmdz/bert-base-turkish-cased\", num_labels=len(labels_to_index))   "
   ]
  },
  {
   "cell_type": "code",
   "execution_count": 43,
   "id": "6b4a6251",
   "metadata": {},
   "outputs": [],
   "source": [
    "from transformers import TrainingArguments, Trainer \n",
    "args = TrainingArguments( \n",
    "\"test-ner\",\n",
    "learning_rate=2e-5, \n",
    "per_device_train_batch_size=1, \n",
    "num_train_epochs=3, \n",
    "weight_decay=0.01, \n",
    ") "
   ]
  },
  {
   "cell_type": "code",
   "execution_count": 44,
   "id": "71a7eee5",
   "metadata": {},
   "outputs": [],
   "source": [
    "data_collator = DataCollatorForTokenClassification(tokenizer)"
   ]
  },
  {
   "cell_type": "code",
   "execution_count": 45,
   "id": "5608e108",
   "metadata": {},
   "outputs": [],
   "source": [
    "trainer = Trainer( \n",
    "    model, \n",
    "    args, \n",
    "   train_dataset = tokenized_datasets[\"train\"], \n",
    "   data_collator=data_collator, \n",
    "   tokenizer=tokenizer, \n",
    ") "
   ]
  },
  {
   "cell_type": "code",
   "execution_count": 47,
   "id": "79203a3f",
   "metadata": {
    "scrolled": true
   },
   "outputs": [
    {
     "data": {
      "application/vnd.jupyter.widget-view+json": {
       "model_id": "b5b1bb3ed49c4d08ae4bdce32f83801e",
       "version_major": 2,
       "version_minor": 0
      },
      "text/plain": [
       "  0%|          | 0/4959 [00:00<?, ?it/s]"
      ]
     },
     "metadata": {},
     "output_type": "display_data"
    },
    {
     "name": "stdout",
     "output_type": "stream",
     "text": [
      "{'loss': 0.455, 'learning_rate': 1.7592256503327286e-05, 'epoch': 0.3}\n",
      "{'loss': 0.3492, 'learning_rate': 1.5575720911474088e-05, 'epoch': 0.6}\n",
      "{'loss': 0.307, 'learning_rate': 1.3559185319620894e-05, 'epoch': 0.91}\n",
      "{'loss': 0.2296, 'learning_rate': 1.1542649727767695e-05, 'epoch': 1.21}\n",
      "{'loss': 0.205, 'learning_rate': 9.526114135914499e-06, 'epoch': 1.51}\n",
      "{'loss': 0.1869, 'learning_rate': 7.509578544061303e-06, 'epoch': 1.81}\n",
      "{'loss': 0.152, 'learning_rate': 5.493042952208107e-06, 'epoch': 2.12}\n",
      "{'loss': 0.0981, 'learning_rate': 3.4765073603549103e-06, 'epoch': 2.42}\n",
      "{'loss': 0.0834, 'learning_rate': 1.4599717685017142e-06, 'epoch': 2.72}\n",
      "{'train_runtime': 8156.4672, 'train_samples_per_second': 0.608, 'train_steps_per_second': 0.608, 'train_loss': 0.2188805643409749, 'epoch': 3.0}\n"
     ]
    },
    {
     "data": {
      "text/plain": [
       "TrainOutput(global_step=4959, training_loss=0.2188805643409749, metrics={'train_runtime': 8156.4672, 'train_samples_per_second': 0.608, 'train_steps_per_second': 0.608, 'train_loss': 0.2188805643409749, 'epoch': 3.0})"
      ]
     },
     "execution_count": 47,
     "metadata": {},
     "output_type": "execute_result"
    }
   ],
   "source": [
    "trainer.train()"
   ]
  },
  {
   "cell_type": "code",
   "execution_count": null,
   "id": "09bd541c",
   "metadata": {},
   "outputs": [],
   "source": [
    "model.save_pretrained(\"bert_model\")"
   ]
  },
  {
   "cell_type": "code",
   "execution_count": null,
   "id": "953632d4",
   "metadata": {
    "scrolled": true
   },
   "outputs": [
    {
     "data": {
      "text/plain": [
       "('tokenizer\\\\tokenizer_config.json',\n",
       " 'tokenizer\\\\special_tokens_map.json',\n",
       " 'tokenizer\\\\vocab.txt',\n",
       " 'tokenizer\\\\added_tokens.json',\n",
       " 'tokenizer\\\\tokenizer.json')"
      ]
     },
     "execution_count": 40,
     "metadata": {},
     "output_type": "execute_result"
    }
   ],
   "source": [
    "tokenizer.save_pretrained(\"tokenizer\")"
   ]
  },
  {
   "cell_type": "markdown",
   "id": "3d0f0a59",
   "metadata": {},
   "source": [
    "## model yukleme ve kullanım"
   ]
  },
  {
   "cell_type": "code",
   "execution_count": 48,
   "id": "ce6bcc1c",
   "metadata": {},
   "outputs": [],
   "source": [
    "import json\n",
    "config = json.load(open('../models/bert_model/config.json'))"
   ]
  },
  {
   "cell_type": "code",
   "execution_count": 49,
   "id": "4cb15f4d",
   "metadata": {},
   "outputs": [],
   "source": [
    "config[\"id2label\"] = index_to_labels\n",
    "config[\"label2id\"] = labels_to_index"
   ]
  },
  {
   "cell_type": "code",
   "execution_count": 50,
   "id": "7ed4a4a6",
   "metadata": {},
   "outputs": [],
   "source": [
    "json.dump(config, open('../models/bert_model/config.json',\"w\"))"
   ]
  },
  {
   "cell_type": "code",
   "execution_count": 51,
   "id": "54d7be3e",
   "metadata": {},
   "outputs": [],
   "source": [
    "model_fine_tuned = AutoModelForTokenClassification.from_pretrained('../models/bert_model')\n"
   ]
  },
  {
   "cell_type": "code",
   "execution_count": 52,
   "id": "b9361075",
   "metadata": {},
   "outputs": [],
   "source": [
    "nlp = pipeline(\"ner\", model=model_fine_tuned, tokenizer=tokenizer)"
   ]
  },
  {
   "cell_type": "code",
   "execution_count": 53,
   "id": "5edef3b5",
   "metadata": {},
   "outputs": [
    {
     "data": {
      "text/plain": [
       "{0: 'B-PERSON',\n",
       " 1: 'I-PERSON',\n",
       " 2: 'O',\n",
       " 3: 'B-ORG',\n",
       " 4: 'I-ORG',\n",
       " 5: 'B-LOC',\n",
       " 6: 'I-LOC',\n",
       " 7: 'B-DATE',\n",
       " 8: 'I-DATE'}"
      ]
     },
     "execution_count": 53,
     "metadata": {},
     "output_type": "execute_result"
    }
   ],
   "source": [
    "index_to_labels"
   ]
  },
  {
   "cell_type": "code",
   "execution_count": 54,
   "id": "f174c50e",
   "metadata": {},
   "outputs": [],
   "source": [
    "labels_to_index['PAD']=9"
   ]
  },
  {
   "cell_type": "code",
   "execution_count": 55,
   "id": "7b749f2b",
   "metadata": {},
   "outputs": [],
   "source": [
    "labels_to_index['PAD']=9\n",
    "index_to_labels[9]='PAD'\n"
   ]
  },
  {
   "cell_type": "code",
   "execution_count": 56,
   "id": "3dba03b9",
   "metadata": {},
   "outputs": [],
   "source": [
    "labels.append('PAD')"
   ]
  },
  {
   "cell_type": "code",
   "execution_count": 57,
   "id": "c9e43e87",
   "metadata": {},
   "outputs": [
    {
     "data": {
      "text/plain": [
       "['B-PERSON',\n",
       " 'I-PERSON',\n",
       " 'O',\n",
       " 'B-ORG',\n",
       " 'I-ORG',\n",
       " 'B-LOC',\n",
       " 'I-LOC',\n",
       " 'B-DATE',\n",
       " 'I-DATE',\n",
       " 'PAD']"
      ]
     },
     "execution_count": 57,
     "metadata": {},
     "output_type": "execute_result"
    }
   ],
   "source": [
    "labels"
   ]
  },
  {
   "cell_type": "code",
   "execution_count": 58,
   "id": "ae8ce878",
   "metadata": {},
   "outputs": [
    {
     "data": {
      "text/plain": [
       "43"
      ]
     },
     "execution_count": 58,
     "metadata": {},
     "output_type": "execute_result"
    }
   ],
   "source": [
    "sentences = data_sentences.sentence.to_list()\n",
    "max_length = max(len(s) for s in sentences)\n",
    "max_length"
   ]
  },
  {
   "cell_type": "code",
   "execution_count": 59,
   "id": "b076c90b",
   "metadata": {},
   "outputs": [],
   "source": [
    "y_test=df_test['labels_index'].tolist()\n",
    "X_test=df_test['sentence'].tolist()"
   ]
  },
  {
   "cell_type": "code",
   "execution_count": 60,
   "id": "b9899d0f",
   "metadata": {},
   "outputs": [],
   "source": [
    "y_test = pad_sequences(y_test, maxlen=max_length, padding=\"post\", value = labels_to_index[\"PAD\"])"
   ]
  },
  {
   "cell_type": "code",
   "execution_count": 61,
   "id": "8def3d3e",
   "metadata": {},
   "outputs": [
    {
     "data": {
      "text/plain": [
       "array([[0, 1, 2, ..., 9, 9, 9],\n",
       "       [0, 3, 4, ..., 9, 9, 9],\n",
       "       [5, 2, 2, ..., 9, 9, 9],\n",
       "       ...,\n",
       "       [7, 2, 2, ..., 9, 9, 9],\n",
       "       [3, 2, 3, ..., 9, 9, 9],\n",
       "       [0, 1, 2, ..., 9, 9, 9]])"
      ]
     },
     "execution_count": 61,
     "metadata": {},
     "output_type": "execute_result"
    }
   ],
   "source": [
    "y_test"
   ]
  },
  {
   "cell_type": "code",
   "execution_count": null,
   "id": "a678f617",
   "metadata": {},
   "outputs": [],
   "source": [
    "sent= str(input())"
   ]
  },
  {
   "cell_type": "code",
   "execution_count": 64,
   "id": "7973dd98",
   "metadata": {},
   "outputs": [],
   "source": [
    "def predict(sentence):\n",
    "    #str_word_char_range = {\"türkiyenin\": [0,9], ...}\n",
    "    #example = [\"Türkiyenin başkenti Ankara'dır.\"]\n",
    "    # Mustafa Kemal Paşa 19 Mayıs 1919'da Samsun'a çıktı\n",
    "    # 5 Ekim'de Bursa Uludağ Üniversitesine gidilecek.\n",
    "    example = [sentence]\n",
    "    str_word_char_range = {}\n",
    "    words_list = str(example[0]).split()\n",
    "    start=0\n",
    "    for word in words_list:\n",
    "        str_word_char_range[word] = [start,start+len(word)]\n",
    "        start = start+len(word)+1\n",
    "    ner_results = nlp(example)\n",
    "    counter_word_list = 0\n",
    "    counter_ner_result = 0\n",
    "    VIT_list = {}\n",
    "    for counter_ner_result in range(len(ner_results[0])):\n",
    "        range_word = str_word_char_range[words_list[counter_word_list]]\n",
    "        if (ner_results[0][counter_ner_result][\"start\"] in range(range_word[0], range_word[1]+1)) and (ner_results[0][counter_ner_result][\"end\"] in range(range_word[0], range_word[1]+1)):     \n",
    "            VIT_list[str(words_list[counter_word_list])] = str(ner_results[0][counter_ner_result][\"entity\"])\n",
    "            counter_word_list += 1\n",
    "        if counter_word_list == len(words_list):\n",
    "            break\n",
    "    for i in range(len(words_list)):\n",
    "        try:\n",
    "            VIT_list[words_list[i]] \n",
    "        except KeyError:\n",
    "            VIT_list[words_list[i]] = \"O\"\n",
    "    return VIT_list"
   ]
  },
  {
   "cell_type": "code",
   "execution_count": 65,
   "id": "ea30becd",
   "metadata": {},
   "outputs": [],
   "source": [
    "a = predict(\"Türkiyenin başkenti Ankara'dır.\").values()"
   ]
  },
  {
   "cell_type": "code",
   "execution_count": 66,
   "id": "5a0d8679",
   "metadata": {},
   "outputs": [
    {
     "data": {
      "text/plain": [
       "'B-LOC O O'"
      ]
     },
     "execution_count": 66,
     "metadata": {},
     "output_type": "execute_result"
    }
   ],
   "source": [
    "\" \".join(x for x in a)"
   ]
  },
  {
   "cell_type": "code",
   "execution_count": 67,
   "id": "d6c555f4",
   "metadata": {},
   "outputs": [],
   "source": [
    "preds_label_indexs=[]\n",
    "for i in range (len(X_test)):\n",
    "    preds_label_indexs.append(predict(' '.join(X_test[i])))"
   ]
  },
  {
   "cell_type": "code",
   "execution_count": 71,
   "id": "3e4ceb17",
   "metadata": {},
   "outputs": [
    {
     "data": {
      "text/plain": [
       "[{'Corina': 'B-PERSON',\n",
       "  'Casanova': 'I-PERSON',\n",
       "  'bir': 'O',\n",
       "  'federal': 'O',\n",
       "  'parlementerdir': 'O'},\n",
       " {'Casanova': 'B-PERSON',\n",
       "  'Hristiyan': 'B-ORG',\n",
       "  'Demokrat': 'I-ORG',\n",
       "  'Halk': 'I-ORG',\n",
       "  'Partisi': 'I-ORG',\n",
       "  'üyesi': 'O',\n",
       "  'üyedidir': 'O',\n",
       "  've': 'O',\n",
       "  'altı': 'O',\n",
       "  'dilde': 'O',\n",
       "  'konuşmaktadır': 'O',\n",
       "  'Romanş': 'O',\n",
       "  'dili': 'O',\n",
       "  'Almanca': 'O',\n",
       "  'Fransızca': 'O',\n",
       "  'İtalyanca': 'O',\n",
       "  'İngilizce': 'O',\n",
       "  'İspanyolca': 'O',\n",
       "  'İsviçre': 'O',\n",
       "  'Dışişleri': 'O',\n",
       "  'Bakanlığı': 'O',\n",
       "  'federal': 'O',\n",
       "  'yönetiminin': 'O',\n",
       "  'bir': 'O',\n",
       "  'bölümüdür': 'O'},\n",
       " {'İsviçrenin': 'B-LOC',\n",
       "  'dış': 'O',\n",
       "  'ilişkilerini': 'O',\n",
       "  'sürdürmekle': 'O',\n",
       "  'görevlidir': 'O'},\n",
       " {'Denton': 'B-LOC',\n",
       "  'Amerika': 'O',\n",
       "  'Birleşik': 'O',\n",
       "  'Devletlerinde': 'O',\n",
       "  'Teksas': 'O',\n",
       "  'eyaletinin': 'O',\n",
       "  'bölgesindeki': 'O',\n",
       "  'bir': 'O',\n",
       "  'şehirdir': 'O'},\n",
       " {'Coğrafi': 'O',\n",
       "  'olarak': 'O',\n",
       "  'Oklahoma': 'O',\n",
       "  'Teksas': 'O',\n",
       "  'sınırının': 'O',\n",
       "  '61': 'O',\n",
       "  'kilometre': 'O',\n",
       "  'güneyinde': 'O',\n",
       "  've': 'O',\n",
       "  'Dallasın': 'O',\n",
       "  '63': 'O',\n",
       "  'kuzeydoğusunda': 'O',\n",
       "  'yer': 'O',\n",
       "  'alır': 'O'},\n",
       " {'Şehir': 'O',\n",
       "  'Kuzey': 'O',\n",
       "  'Teksasın': 'O',\n",
       "  'en': 'O',\n",
       "  'büyük': 'O',\n",
       "  'üniversitesi': 'O',\n",
       "  'olan': 'O',\n",
       "  'Teksas': 'O',\n",
       "  'Üniversitesi': 'O',\n",
       "  'ile': 'O',\n",
       "  'kurulduğu': 'O',\n",
       "  '1994': 'O',\n",
       "  'yılından': 'O',\n",
       "  'beri': 'O',\n",
       "  'tek': 'O',\n",
       "  'cinsiyetli': 'O',\n",
       "  'eğitim': 'O',\n",
       "  'yapan': 'O',\n",
       "  'Kadınlar': 'O',\n",
       "  'Üniversitesine': 'O',\n",
       "  'ev': 'O',\n",
       "  'sahipliği': 'O',\n",
       "  'yapmaktadır': 'O'},\n",
       " {'Howard': 'B-PERSON',\n",
       "  'Stark': 'I-PERSON',\n",
       "  'Marvelın': 'B-ORG',\n",
       "  'kurgusal': 'O',\n",
       "  'bir': 'O',\n",
       "  'karakteridir': 'O'},\n",
       " {'İlk': 'O',\n",
       "  'genel': 'O',\n",
       "  'gösteri': 'O',\n",
       "  'Dünya': 'O',\n",
       "  'Çapında': 'O',\n",
       "  'Pazarlamadan': 'O',\n",
       "  'Sorumlu': 'O',\n",
       "  'Kıdemli': 'O',\n",
       "  'Başkan': 'O',\n",
       "  'Yardımcısı': 'O',\n",
       "  'Serlet': 'O',\n",
       "  've': 'O',\n",
       "  'Phil': 'O',\n",
       "  'Schiller': 'O',\n",
       "  'tarafından': 'O',\n",
       "  'WWDC': 'O',\n",
       "  '2009da': 'O',\n",
       "  'sunulmuştur': 'O'},\n",
       " {'Ayrıca': 'O',\n",
       "  'belirtmek': 'O',\n",
       "  'gerekir': 'O',\n",
       "  'ki': 'O',\n",
       "  '64': 'O',\n",
       "  'bit': 'O',\n",
       "  'x': 'O',\n",
       "  '86': 'O',\n",
       "  '_': 'O',\n",
       "  'mimarisinden': 'O',\n",
       "  'faydalanabilmek': 'O',\n",
       "  'getirilerinden': 'O',\n",
       "  'istifade': 'O',\n",
       "  'edebilmek': 'O',\n",
       "  'için': 'O',\n",
       "  '2008': 'O',\n",
       "  'yılında': 'O',\n",
       "  'lanse': 'O',\n",
       "  'edilen': 'O',\n",
       "  'piyasaya': 'O',\n",
       "  'sunulan': 'O',\n",
       "  'bir': 'O',\n",
       "  'Macintosh': 'O',\n",
       "  'gerekmektedir': 'O'},\n",
       " {'Snow': 'B-ORG',\n",
       "  'Leopard': 'I-ORG',\n",
       "  'Yükseltme': 'O',\n",
       "  'lisansı': 'O',\n",
       "  'satın': 'O',\n",
       "  'alma': 'O',\n",
       "  '8': 'O',\n",
       "  'Haziran': 'O',\n",
       "  've': 'O',\n",
       "  '26': 'O',\n",
       "  'Aralık': 'O',\n",
       "  '2009': 'O',\n",
       "  'tarihleri': 'O',\n",
       "  'arasında': 'O',\n",
       "  'Macler': 'O',\n",
       "  'için': 'O',\n",
       "  'Güncel': 'O',\n",
       "  'Programa': 'O',\n",
       "  'geçerlidir': 'O'}]"
      ]
     },
     "execution_count": 71,
     "metadata": {},
     "output_type": "execute_result"
    }
   ],
   "source": [
    "preds_label_indexs[:10]"
   ]
  },
  {
   "cell_type": "code",
   "execution_count": null,
   "id": "ffec67fb",
   "metadata": {
    "scrolled": true
   },
   "outputs": [],
   "source": [
    "y_prediction = pad_sequences(preds_label_indexs, maxlen=max_length, padding=\"post\", value = labels_to_index[\"PAD\"])"
   ]
  },
  {
   "cell_type": "code",
   "execution_count": null,
   "id": "f4e28602",
   "metadata": {},
   "outputs": [
    {
     "data": {
      "text/plain": [
       "(414, 43)"
      ]
     },
     "execution_count": 64,
     "metadata": {},
     "output_type": "execute_result"
    }
   ],
   "source": [
    "y_test.shape"
   ]
  },
  {
   "cell_type": "code",
   "execution_count": null,
   "id": "07fa5434",
   "metadata": {},
   "outputs": [],
   "source": [
    "from sklearn.metrics import f1_score\n",
    "from sklearn.metrics import classification_report\n",
    "\n",
    "# Calculate F1 score\n",
    "f1 = f1_score(y_test.reshape((len(y_test)*max_length),1), y_prediction.reshape((len(y_test)*max_length),1),average=None)"
   ]
  },
  {
   "cell_type": "code",
   "execution_count": null,
   "id": "1d33064e",
   "metadata": {},
   "outputs": [
    {
     "name": "stdout",
     "output_type": "stream",
     "text": [
      " B-PERSON: F1 score: 0.5280898876404494\n",
      " I-PERSON: F1 score: 0.5606694560669456\n",
      " O: F1 score: 0.843643219040886\n",
      " B-ORG: F1 score: 0.26666666666666666\n",
      " I-ORG: F1 score: 0.21374045801526717\n",
      " B-LOC: F1 score: 0.47010309278350515\n",
      " I-LOC: F1 score: 0.29870129870129875\n",
      " B-DATE: F1 score: 0.4961832061068703\n",
      " I-DATE: F1 score: 0.3796296296296296\n",
      " PAD: F1 score: 0.992928318868531\n"
     ]
    }
   ],
   "source": [
    "for class_id, f1 in enumerate(f1):\n",
    "    print(\" {}: F1 score: {}\".format(index_to_labels[class_id], f1))"
   ]
  },
  {
   "cell_type": "code",
   "execution_count": null,
   "id": "c93a1727",
   "metadata": {},
   "outputs": [
    {
     "name": "stdout",
     "output_type": "stream",
     "text": [
      "              precision    recall  f1-score   support\n",
      "\n",
      "    B-PERSON       0.88      0.38      0.53       249\n",
      "    I-PERSON       0.87      0.41      0.56       162\n",
      "           O       0.76      0.95      0.84      3765\n",
      "       B-ORG       0.76      0.16      0.27       210\n",
      "       I-ORG       0.74      0.12      0.21       224\n",
      "       B-LOC       0.84      0.33      0.47       350\n",
      "       I-LOC       0.85      0.18      0.30       127\n",
      "      B-DATE       0.92      0.34      0.50       191\n",
      "      I-DATE       0.82      0.25      0.38       166\n",
      "         PAD       0.99      1.00      0.99     12358\n",
      "\n",
      "    accuracy                           0.92     17802\n",
      "   macro avg       0.84      0.41      0.51     17802\n",
      "weighted avg       0.92      0.92      0.91     17802\n",
      "\n"
     ]
    }
   ],
   "source": [
    "print(classification_report(y_test.reshape((len(y_test)*max_length),1), y_prediction.reshape((len(y_test)*max_length),1), target_names=labels))"
   ]
  },
  {
   "cell_type": "code",
   "execution_count": null,
   "id": "c62fdf3a",
   "metadata": {},
   "outputs": [
    {
     "data": {
      "image/png": "[encoded data removed]",
      "text/plain": [
       "<Figure size 1200x500 with 1 Axes>"
      ]
     },
     "metadata": {},
     "output_type": "display_data"
    }
   ],
   "source": [
    "import matplotlib.pyplot as plt\n",
    "f1 = f1_score(y_test.reshape((len(y_test)*max_length),1), y_prediction.reshape((len(y_test)*max_length),1),average=None)\n",
    "plt.figure(figsize=(12, 5))\n",
    "plt.bar(labels, f1.tolist())\n",
    "plt.xlabel('Class Labels')\n",
    "plt.ylabel('F1 Score')\n",
    "plt.title('F1 Scores for Each Class')\n",
    "plt.xticks(labels)\n",
    "plt.ylim(0, 1)  # Optional: Set the y-axis limits\n",
    "plt.show()"
   ]
  },
  {
   "cell_type": "code",
   "execution_count": null,
   "id": "2845f68e",
   "metadata": {},
   "outputs": [
    {
     "name": "stdout",
     "output_type": "stream",
     "text": [
      "{'Albert': 'B-PERSON', 'Einstein': 'I-PERSON', 'ünlü': 'O', 'bir': 'O', 'fizikçi': 'O', 've': 'O', 'teorik': 'O', 'fizik': 'O', 'alanında': 'O', 'dahi': 'O', 'olarak': 'O', 'tanınır': 'O'}\n"
     ]
    },
    {
     "data": {
      "text/plain": [
       "[0, 1, 2, 2, 2, 2, 2, 2, 2, 2, 2, 2]"
      ]
     },
     "execution_count": 82,
     "metadata": {},
     "output_type": "execute_result"
    }
   ],
   "source": [
    "predict('Albert Einstein ünlü bir fizikçi ve teorik fizik alanında bir dahi olarak tanınır')"
   ]
  }
 ],
 "metadata": {
  "kernelspec": {
   "display_name": "Python 3 (ipykernel)",
   "language": "python",
   "name": "python3"
  },
  "language_info": {
   "codemirror_mode": {
    "name": "ipython",
    "version": 3
   },
   "file_extension": ".py",
   "mimetype": "text/x-python",
   "name": "python",
   "nbconvert_exporter": "python",
   "pygments_lexer": "ipython3",
   "version": "3.8.19"
  }
 },
 "nbformat": 4,
 "nbformat_minor": 5
}
